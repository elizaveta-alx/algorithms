{
 "cells": [
  {
   "cell_type": "code",
   "execution_count": 39,
   "metadata": {
    "id": "NH_Dgniqcs7Q"
   },
   "outputs": [],
   "source": [
    "import random\n",
    "import numpy as np\n",
    "import matplotlib.pyplot as plt\n",
    "import math\n",
    "import scipy.optimize as opt\n",
    "from prettytable import PrettyTable"
   ]
  },
  {
   "cell_type": "markdown",
   "metadata": {},
   "source": [
    "# Part 1. One-domentional methods to minimization"
   ]
  },
  {
   "cell_type": "code",
   "execution_count": 2,
   "metadata": {
    "id": "Af4eOwYdA7KG"
   },
   "outputs": [],
   "source": [
    "def f1(x):\n",
    "    return x ** 3\n",
    "def f2(x):\n",
    "    return abs(x-0.2)\n",
    "def f3(x):\n",
    "    return x * math.sin(1/x)"
   ]
  },
  {
   "cell_type": "code",
   "execution_count": 3,
   "metadata": {
    "id": "QvZDYmgwcs7a"
   },
   "outputs": [],
   "source": [
    "def printTable(heading, data):\n",
    "    columns = len(heading)  \n",
    "    table = PrettyTable(heading)  \n",
    "    tab_data = data[:]\n",
    "    while tab_data:\n",
    "        table.add_row(tab_data[:columns])\n",
    "        tab_data = tab_data[columns:]\n",
    "    print(table)"
   ]
  },
  {
   "cell_type": "code",
   "execution_count": 18,
   "metadata": {
    "id": "Pmx__SbK8XyN"
   },
   "outputs": [],
   "source": [
    "def brute_force(function, function_name, a, b, eps):\n",
    "    n = int((b - a) / eps)\n",
    "    x = 0\n",
    "    iteration = 0\n",
    "    min_value = function(a)\n",
    "    f_calculations = 1\n",
    "    for k in range(n):\n",
    "        x = a + k * (b - a) / n\n",
    "        if function(x) < min_value:\n",
    "            min_value = function(x)\n",
    "        f_calculations += 1\n",
    "        iteration += 1\n",
    "    return function_name, min_value, iteration,f_calculations"
   ]
  },
  {
   "cell_type": "code",
   "execution_count": 22,
   "metadata": {
    "id": "qLKy-xxQddPs"
   },
   "outputs": [],
   "source": [
    "def add_results(func):\n",
    "    res=[]\n",
    "    for i in range(4):\n",
    "        res.append(func(f1, 'f1', 0, 1, 0.001)[i])\n",
    "    for i in range(4):\n",
    "        res.append(func(f2, 'f2', 0, 1, 0.001)[i])\n",
    "    for i in range(4):\n",
    "        res.append(func(f3, 'f3', 0.01, 1, 0.001)[i])\n",
    "    heading = [\"Function\",\"Minimum value\",\"Number of iterations\",\"Number of f-calculations\"]\n",
    "    printTable(heading,res)"
   ]
  },
  {
   "cell_type": "code",
   "execution_count": 24,
   "metadata": {
    "colab": {
     "base_uri": "https://localhost:8080/"
    },
    "id": "18B4RAJ4hKed",
    "outputId": "6d49c7ce-d18a-4756-9b1a-1115e11165aa"
   },
   "outputs": [
    {
     "name": "stdout",
     "output_type": "stream",
     "text": [
      "Results of brute force method\n",
      "+----------+----------------------+----------------------+--------------------------+\n",
      "| Function |    Minimum value     | Number of iterations | Number of f-calculations |\n",
      "+----------+----------------------+----------------------+--------------------------+\n",
      "|    f1    |          0           |         1000         |           1001           |\n",
      "|    f2    |         0.0          |         1000         |           1001           |\n",
      "|    f3    | -0.21722461258083445 |         990          |           991            |\n",
      "+----------+----------------------+----------------------+--------------------------+\n"
     ]
    }
   ],
   "source": [
    "print('Results of brute force method')\n",
    "print_results(brute_force)"
   ]
  },
  {
   "cell_type": "code",
   "execution_count": 25,
   "metadata": {
    "id": "f2ea2hk-JwBH"
   },
   "outputs": [],
   "source": [
    "def dichotomy(function,function_name, a, b, eps):\n",
    "    iteration = 0\n",
    "    f_calculations = 0\n",
    "    delta = eps / 2\n",
    "    while abs(a - b) >= eps:\n",
    "        x1 = (a + b - delta) / 2\n",
    "        x2 = (a + b + delta) / 2\n",
    "        if function(x1) <= function(x2):\n",
    "            b = x2\n",
    "        else: \n",
    "            a = x1\n",
    "        iteration += 1\n",
    "        f_calculations += 2\n",
    "    min_value = function((a + b ) / 2)\n",
    "    return function_name, min_value, iteration,f_calculations"
   ]
  },
  {
   "cell_type": "code",
   "execution_count": 26,
   "metadata": {
    "colab": {
     "base_uri": "https://localhost:8080/"
    },
    "id": "HO99EsKKh3G6",
    "outputId": "288eec53-66b4-4560-aaf3-789ca5b40448"
   },
   "outputs": [
    {
     "name": "stdout",
     "output_type": "stream",
     "text": [
      "Results of dichotomy method\n",
      "+----------+------------------------+----------------------+--------------------------+\n",
      "| Function |     Minimum value      | Number of iterations | Number of f-calculations |\n",
      "+----------+------------------------+----------------------+--------------------------+\n",
      "|    f1    | 1.2056736854538035e-10 |          11          |            22            |\n",
      "|    f2    | 0.0001011962890624385  |          11          |            22            |\n",
      "|    f3    |  -0.21723352556119732  |          11          |            22            |\n",
      "+----------+------------------------+----------------------+--------------------------+\n"
     ]
    }
   ],
   "source": [
    "print('Results of dichotomy method')\n",
    "print_results(dichotomy)"
   ]
  },
  {
   "cell_type": "code",
   "execution_count": 27,
   "metadata": {
    "id": "iM2w4NZTnjKS"
   },
   "outputs": [],
   "source": [
    "def golden_section(function, function_name, a, b, eps):\n",
    "    iteration = 0\n",
    "    dict_value = {}\n",
    "    x1 = (3 - 5 ** 0.5) * (b - a) / 2 + a\n",
    "    x2 = (( 5** 0.5 - 3) * (b - a)) / 2 + b\n",
    "    f_calculations = 1\n",
    "    while abs(a - b) >= eps:\n",
    "        if function(x1) <= function(x2):\n",
    "            b = x2\n",
    "            x2 = x1\n",
    "            x1 = (3 - 5 ** 0.5) * (b - a) / 2 + a\n",
    "        else: \n",
    "            a = x1\n",
    "            x1 = x2\n",
    "            x2 = ((5 ** 0.5 - 3) * (b - a)) / 2 + b\n",
    "        f_calculations +=1\n",
    "        iteration += 1\n",
    "    min_value = function((a + b ) / 2)\n",
    "    return function_name, min_value, iteration,f_calculations"
   ]
  },
  {
   "cell_type": "code",
   "execution_count": 28,
   "metadata": {
    "colab": {
     "base_uri": "https://localhost:8080/"
    },
    "id": "vXL_b6ssiKZy",
    "outputId": "75f53459-8668-4b5b-94a9-e68a9ac69eb0"
   },
   "outputs": [
    {
     "name": "stdout",
     "output_type": "stream",
     "text": [
      "Results of golden section method\n",
      "+----------+------------------------+----------------------+--------------------------+\n",
      "| Function |     Minimum value      | Number of iterations | Number of f-calculations |\n",
      "+----------+------------------------+----------------------+--------------------------+\n",
      "|    f1    | 4.9256800857728296e-11 |          15          |            16            |\n",
      "|    f2    | 7.331374358568454e-05  |          15          |            16            |\n",
      "|    f3    |  -0.21723232817753246  |          15          |            16            |\n",
      "+----------+------------------------+----------------------+--------------------------+\n"
     ]
    }
   ],
   "source": [
    "print('Results of golden section method')\n",
    "print_results(golden_section)"
   ]
  },
  {
   "cell_type": "markdown",
   "metadata": {
    "id": "VD26JlBZyWPD"
   },
   "source": [
    "# Part 2. Multidimensional methods to minimization"
   ]
  },
  {
   "cell_type": "code",
   "execution_count": 40,
   "metadata": {
    "id": "RWVxeKx2cs7u"
   },
   "outputs": [],
   "source": [
    "#data generation\n",
    "np.random.seed(seed=60)\n",
    "alpha, beta = random.randrange(0, 1), random.randrange(0, 1)\n",
    "xk = [i / 100 for i in range(100)]\n",
    "yk = [alpha * i + beta + np.random.normal(0, 1) for i in xk]"
   ]
  },
  {
   "cell_type": "code",
   "execution_count": 41,
   "metadata": {
    "id": "JSAAH6P-sosG"
   },
   "outputs": [],
   "source": [
    "def linear_approximation(a,b):\n",
    "    x = []\n",
    "    y = []\n",
    "    for k in range(100):\n",
    "        x.append(k / 100)\n",
    "        y.append(a * x[k] + b)\n",
    "    return x, y\n",
    "\n",
    "def rational_approximation(a,b):\n",
    "    x = []\n",
    "    y = []\n",
    "    for k in range(100):\n",
    "        x.append(k / 100)\n",
    "        y.append(a / (1 + b * x[k]))\n",
    "    return x, y"
   ]
  },
  {
   "cell_type": "code",
   "execution_count": 42,
   "metadata": {
    "id": "nJmSFS4R6W7k"
   },
   "outputs": [],
   "source": [
    "def lin_apploximant(x,xk,yk):  \n",
    "    a = x[0]\n",
    "    b = x[1]\n",
    "    D_linear = 0\n",
    "    for k in range(100):\n",
    "        D_linear += ((a * xk[k] + b) - yk[k]) ** 2\n",
    "    return D_linear\n"
   ]
  },
  {
   "cell_type": "code",
   "execution_count": 43,
   "metadata": {
    "id": "KCwqwFIGcs7x"
   },
   "outputs": [],
   "source": [
    "def rat_apploximant(x,xk,yk):  \n",
    "    a = x[0]\n",
    "    b = x[1]\n",
    "    D_rational = 0\n",
    "    for k in range(100):\n",
    "        D_rational += (yk[k] - a / (1 + b * xk[k])) ** 2\n",
    "    return D_rational"
   ]
  },
  {
   "cell_type": "code",
   "execution_count": 87,
   "metadata": {},
   "outputs": [
    {
     "name": "stdout",
     "output_type": "stream",
     "text": [
      "Results of approximation data by linear function using brute force method: [ 0.25071862 -0.02411827]\n"
     ]
    }
   ],
   "source": [
    "res_lin_brute = opt.brute(lin_apploximant, [[0, 0], [0, 0]], args=(xk,yk))\n",
    "print(\"Results of approximation data by linear function using brute force method:\", res_lin_brute)"
   ]
  },
  {
   "cell_type": "code",
   "execution_count": 88,
   "metadata": {},
   "outputs": [
    {
     "name": "stdout",
     "output_type": "stream",
     "text": [
      "Result of approximation data by linear function using Nelder-Mead method\n",
      " final_simplex: (array([[ 0.25097343, -0.02426183],\n",
      "       [ 0.25032449, -0.02399704],\n",
      "       [ 0.25066616, -0.02432908]]), array([112.81079205, 112.81079345, 112.81079674]))\n",
      "           fun: 112.81079205005184\n",
      "       message: 'Optimization terminated successfully.'\n",
      "          nfev: 87\n",
      "           nit: 46\n",
      "        status: 0\n",
      "       success: True\n",
      "             x: array([ 0.25097343, -0.02426183])\n"
     ]
    }
   ],
   "source": [
    "print(\"Result of approximation data by linear function using Nelder-Mead method\")\n",
    "print(res_lin_nelder)"
   ]
  },
  {
   "cell_type": "code",
   "execution_count": 89,
   "metadata": {},
   "outputs": [
    {
     "name": "stdout",
     "output_type": "stream",
     "text": [
      "Result approximation data by linear function using  Gauss method\n",
      "   direc: array([[ 0.00000000e+00,  1.00000000e+00],\n",
      "       [ 1.00789942e-02, -2.88064752e-04]])\n",
      "     fun: 112.8149635244767\n",
      " message: 'Optimization terminated successfully.'\n",
      "    nfev: 46\n",
      "     nit: 2\n",
      "  status: 0\n",
      " success: True\n",
      "       x: array([ 0.23171533, -0.01132362])\n"
     ]
    }
   ],
   "source": [
    "print(\"Result approximation data by linear function using  Gauss method\")\n",
    "print(res_lin_gauss)"
   ]
  },
  {
   "cell_type": "code",
   "execution_count": 80,
   "metadata": {},
   "outputs": [
    {
     "data": {
      "image/png": "[encoded data removed]",
      "text/plain": [
       "<Figure size 1080x504 with 1 Axes>"
      ]
     },
     "metadata": {
      "needs_background": "light"
     },
     "output_type": "display_data"
    }
   ],
   "source": [
    "plt.figure(figsize=(15,7)) \n",
    "plt.title('Approximation by linear function')   \n",
    "plt.xlabel('x') \n",
    "plt.ylabel('y') \n",
    "#plt.legend(['Linear approximation by brute force','Linear approximation bu Nelder-Mead', \n",
    "            #'Linear approximation by Gauss', 'Noisy data'])\n",
    "plt.plot(xk, yk,'o', label = \"Noise data\", color='red') # noise data \n",
    "plt.plot(linear_approximation(res_lin_brute[0], res_lin_brute[1])[0],\n",
    "         linear_approximation(res_lin_brute[0], res_lin_brute[1])[1],\n",
    "         linewidth = 1, label = \"Brute force method\", color='blue') #drew approx function\n",
    "plt.plot(linear_approximation(*res_lin_nelder.x)[0],\n",
    "         linear_approximation(*res_lin_nelder.x)[1],\n",
    "         linewidth = 1, label = \"Nelder-Mead method\", color='green')\n",
    "plt.plot(linear_approximation(*res_lin_gauss.x)[0],\n",
    "         linear_approximation(*res_lin_gauss.x)[1],\n",
    "         linewidth = 1, label = \"Gauss method\", color='purple')\n",
    "\n",
    "plt.legend(loc='upper left') #show legend\n",
    "plt.show() # show plot"
   ]
  },
  {
   "cell_type": "code",
   "execution_count": 90,
   "metadata": {},
   "outputs": [
    {
     "name": "stdout",
     "output_type": "stream",
     "text": [
      "Results of approximation data by rational function using brute force method: [ 0.07316736 -0.54793956]\n"
     ]
    }
   ],
   "source": [
    "res_rat_brute = opt.brute(rat_apploximant, [[0, 0], [0, 0]], args=(xk,yk))\n",
    "print(\"Results of approximation data by rational function using brute force method:\", res_rat_brute)"
   ]
  },
  {
   "cell_type": "code",
   "execution_count": 92,
   "metadata": {},
   "outputs": [
    {
     "name": "stdout",
     "output_type": "stream",
     "text": [
      "Results of approximation data by rational function using Nelder-Mead method\n",
      " final_simplex: (array([[ 0.07313997, -0.54841684],\n",
      "       [ 0.0732048 , -0.54800388],\n",
      "       [ 0.07314064, -0.54744849]]), array([113.16044533, 113.16044546, 113.16044618]))\n",
      "           fun: 113.16044533388556\n",
      "       message: 'Optimization terminated successfully.'\n",
      "          nfev: 105\n",
      "           nit: 55\n",
      "        status: 0\n",
      "       success: True\n",
      "             x: array([ 0.07313997, -0.54841684])\n"
     ]
    }
   ],
   "source": [
    "res_rat_nelder = opt.minimize(rat_apploximant, [0, 0], args = (xk,yk), tol=0.001, method=\"Nelder-Mead\")\n",
    "print(\"Results of approximation data by rational function using Nelder-Mead method\")\n",
    "print(res_rat_nelder)"
   ]
  },
  {
   "cell_type": "code",
   "execution_count": 93,
   "metadata": {},
   "outputs": [
    {
     "name": "stdout",
     "output_type": "stream",
     "text": [
      "Results of approximation data by rational function using Gauss method\n",
      "   direc: array([[1., 0.],\n",
      "       [0., 1.]])\n",
      "     fun: 113.17314882664323\n",
      " message: 'Optimization terminated successfully.'\n",
      "    nfev: 45\n",
      "     nit: 2\n",
      "  status: 0\n",
      " success: True\n",
      "       x: array([ 0.08437935, -0.47181044])\n"
     ]
    }
   ],
   "source": [
    "res_rat_gauss = opt.minimize(rat_apploximant, [0, 0], args=(xk,yk), tol=0.001, method='Powell')\n",
    "print(\"Results of approximation data by rational function using Gauss method\")\n",
    "print(res_rat_gauss)"
   ]
  },
  {
   "cell_type": "code",
   "execution_count": 86,
   "metadata": {},
   "outputs": [
    {
     "data": {
      "image/png": "[encoded data removed]",
      "text/plain": [
       "<Figure size 1080x504 with 1 Axes>"
      ]
     },
     "metadata": {
      "needs_background": "light"
     },
     "output_type": "display_data"
    }
   ],
   "source": [
    "plt.figure(figsize=(15,7)) \n",
    "plt.title('Approximation by rational function')   \n",
    "plt.xlabel('x') \n",
    "plt.ylabel('y') \n",
    "#plt.legend(['Linear approximation by brute force','Linear approximation bu Nelder-Mead', \n",
    "            #'Linear approximation by Gauss', 'Noisy data'])\n",
    "plt.plot(xk, yk,'o', label = \"Noise data\", color='red') # noise data \n",
    "plt.plot(rational_approximation(res_rat_brute[0], res_rat_brute[1])[0],\n",
    "         rational_approximation(res_rat_brute[0], res_rat_brute[1])[1],\n",
    "         linewidth = 1, label = \"Brute force method\", color='blue') #drew approx function\n",
    "plt.plot(rational_approximation(*res_rat_nelder.x)[0],\n",
    "         rational_approximation(*res_rat_nelder.x)[1],\n",
    "         linewidth = 1, label = \"Nelder-Mead method\", color='green')\n",
    "plt.plot(rational_approximation(*res_rat_gauss.x)[0],\n",
    "         rational_approximation(*res_rat_gauss.x)[1],\n",
    "         linewidth = 1, label = \"Gauss method\", color='purple')\n",
    "\n",
    "plt.legend(loc='upper left') #show legend\n",
    "plt.show() # show plot"
   ]
  },
  {
   "cell_type": "code",
   "execution_count": null,
   "metadata": {
    "id": "Z1vh1L3MAluE"
   },
   "outputs": [],
   "source": []
  }
 ],
 "metadata": {
  "colab": {
   "collapsed_sections": [],
   "name": "Lab2.ipynb",
   "provenance": []
  },
  "kernelspec": {
   "display_name": "Python 3",
   "language": "python",
   "name": "python3"
  },
  "language_info": {
   "codemirror_mode": {
    "name": "ipython",
    "version": 3
   },
   "file_extension": ".py",
   "mimetype": "text/x-python",
   "name": "python",
   "nbconvert_exporter": "python",
   "pygments_lexer": "ipython3",
   "version": "3.8.8"
  }
 },
 "nbformat": 4,
 "nbformat_minor": 1
}
