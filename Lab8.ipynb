{
  "nbformat": 4,
  "nbformat_minor": 0,
  "metadata": {
    "colab": {
      "name": "Lab8",
      "provenance": [],
      "collapsed_sections": []
    },
    "kernelspec": {
      "display_name": "Python 3",
      "name": "python3"
    },
    "language_info": {
      "name": "python"
    }
  },
  "cells": [
    {
      "cell_type": "markdown",
      "metadata": {
        "id": "ApjdOeGIFOzJ"
      },
      "source": [
        "# Strassen's algorithm"
      ]
    },
    {
      "cell_type": "code",
      "metadata": {
        "id": "mECTdMcEruMs"
      },
      "source": [
        "import random\n",
        "import numpy as np"
      ],
      "execution_count": 19,
      "outputs": []
    },
    {
      "cell_type": "code",
      "metadata": {
        "id": "P_KHXjW62VH4"
      },
      "source": [
        "def matrix_addition(A, B):\n",
        "    n = len(A)\n",
        "    C = [[0 for j in range(n)] for i in range(n)]\n",
        "    for j in range(n):\n",
        "        for i in range (n):\n",
        "            C[i][j] = A[i][j] + B[i][j]\n",
        "    return C\n",
        "\n",
        "def matrix_subtraction(A, B):\n",
        "    n = len(A)\n",
        "    C = [[0 for j in range(n)] for i in range(n)]\n",
        "    for i in range(n):\n",
        "        for j in range(n):\n",
        "            C[i][j] = A[i][j] - B[i][j]\n",
        "    return C\n",
        "\n",
        "def strassens(A, B):\n",
        "    # Implementation of the strassen algorithm\n",
        "    n = len(A)\n",
        "    C = [[0 for j in range(n)] for i in range(n)]\n",
        "    if n == 1:\n",
        "      C[0][0] = A[0][0]*B[0][0]\n",
        "    else:\n",
        "        # the new sub-matrices by dividing n (n/2)\n",
        "        m = n // 2\n",
        "        A11 = [[0 for j in range(m)] for i in range(m)]\n",
        "        A12 = [[0 for j in range(m)] for i in range(m)]\n",
        "        A21 = [[0 for j in range(m)] for i in range(m)]\n",
        "        A22 = [[0 for j in range(m)] for i in range(m)]\n",
        "\n",
        "        B11 = [[0 for j in range(m)] for i in range(m)]\n",
        "        B12 = [[0 for j in range(m)] for i in range(m)]\n",
        "        B21 = [[0 for j in range(m)] for i in range(m)]\n",
        "        B22 = [[0 for j in range(m)] for i in range(m)]\n",
        "\n",
        "\n",
        "        # create 4 sub-matrices(top left, top right bottom letf and right:\n",
        "        for i in range(m):\n",
        "            for j in range(m):\n",
        "                A11[i][j] = A[i][j]            \n",
        "                A12[i][j] = A[i][j + m]\n",
        "                A21[i][j] = A[i + m][j]    \n",
        "                A22[i][j] = A[i + m][j + m] \n",
        "\n",
        "                B11[i][j] = B[i][j]            \n",
        "                B12[i][j] = B[i][j + m]    \n",
        "                B21[i][j] = B[i + m][j]    \n",
        "                B22[i][j] = B[i + m][j + m] \n",
        "        # making the calculation for all the ps\n",
        "        S1 = matrix_subtraction(B12,B22)\n",
        "        S2 = matrix_addition(A11,A12)\n",
        "        S3 = matrix_addition(A21,A22)\n",
        "        S4 = matrix_subtraction(B21,B11)\n",
        "        S5 = matrix_addition(A11,A22)\n",
        "        S6 = matrix_addition(B11,B22)\n",
        "        S7 = matrix_subtraction(A12,A22)\n",
        "        S8 = matrix_addition(B21,B22)\n",
        "        S9 = matrix_subtraction(A11,A22)\n",
        "        S10 = matrix_addition(B11,B12)\n",
        "\n",
        "        P1 = strassens(A11, S1) # p1 = (a11) * (b12-b22)\n",
        "        P2 = strassens(S2, B22)\n",
        "        P3 = strassens(S3,B11)\n",
        "        P4 = strassens(A22,S4)\n",
        "        P5 = strassens(S5,S6)\n",
        "        P6 = strassens(S7,S8)\n",
        "        P7 = strassens(S9,S10)\n",
        "    # reqrouping all the ps into c11, c22,c21,c12\n",
        "        C11 = matrix_addition(matrix_subtraction(matrix_addition(P5,P4),P2),P6) # P5 + P4 - P2 + P6\n",
        "        C12 = matrix_addition(P1, P2)\n",
        "        C21 = matrix_addition(P3, P4)\n",
        "        C22 = matrix_subtraction(matrix_addition(P5,P1),matrix_addition(P3,P7)) # P5 + P1 - P3 - P7 \n",
        "    # Grouping the results obtained in a single matrix:\n",
        "        C = [[0 for j in range(n)] for i in range(n)]\n",
        "        for i in range(m):\n",
        "            for j in range(m):\n",
        "                C[i][j] = C11[i][j]\n",
        "                C[i][j + m] = C12[i][j]\n",
        "                C[i + m][j] = C21[i][j]\n",
        "                C[i + m][j + m] = C22[i][j]\n",
        "    return C"
      ],
      "execution_count": 15,
      "outputs": []
    },
    {
      "cell_type": "code",
      "metadata": {
        "colab": {
          "base_uri": "https://localhost:8080/"
        },
        "id": "CYfWuMd3gt3z",
        "outputId": "7d41f0d0-f0a9-4cb4-e01e-7e69c2e842a0"
      },
      "source": [
        "size = 4\n",
        "A = np.random.randint(1, 100, (size, size), dtype=\"i\")\n",
        "B = np.random.randint(1, 100, (size, size), dtype=\"i\")\n",
        "print(\"Matrix A\\n\",A)\n",
        "print(\"Matrix B\\n\", B)"
      ],
      "execution_count": 24,
      "outputs": [
        {
          "output_type": "stream",
          "name": "stdout",
          "text": [
            "Matrix A\n",
            " [[78 37 61 52]\n",
            " [77  5 81 27]\n",
            " [55 97 39 79]\n",
            " [76 76 67 92]]\n",
            "Matrix B\n",
            " [[84 18 37 30]\n",
            " [74 19 71 31]\n",
            " [72 12 69 86]\n",
            " [60 47 88 65]]\n"
          ]
        }
      ]
    },
    {
      "cell_type": "code",
      "metadata": {
        "colab": {
          "base_uri": "https://localhost:8080/"
        },
        "id": "DLhyFNzZsdC4",
        "outputId": "b98ea49d-a259-43af-883a-aa2bad55e17c"
      },
      "source": [
        "print(strassens(A, B))"
      ],
      "execution_count": 25,
      "outputs": [
        {
          "output_type": "stream",
          "name": "stdout",
          "text": [
            "[[16802, 5283, 14298, 12113], [14290, -8158, 11169, -2008], [19346, 7014, 14019, 11478], [22352, 10040, 22158, 24846]]\n"
          ]
        }
      ]
    },
    {
      "cell_type": "code",
      "metadata": {
        "colab": {
          "base_uri": "https://localhost:8080/"
        },
        "id": "7xs4TzhW5o0R",
        "outputId": "cb81ceff-1fbd-418f-ecb3-dfeae5c56f48"
      },
      "source": [
        "size = 8\n",
        "A = np.random.randint(1, 100, (size, size), dtype=\"i\")\n",
        "B = np.random.randint(1, 100, (size, size), dtype=\"i\")\n",
        "print(\"Matrix A\\n\",A)\n",
        "print(\"Matrix B\\n\", B)\n",
        "print(strassens(A, B))"
      ],
      "execution_count": 32,
      "outputs": [
        {
          "output_type": "stream",
          "name": "stdout",
          "text": [
            "Matrix A\n",
            " [[26 45 98 62 76 34 30 66]\n",
            " [54 99 10 54 34 34 81 92]\n",
            " [45 85 88 76 46 48 27 20]\n",
            " [63 51 50 39 99 71 90 82]\n",
            " [67 80 51 66 58 90 64 62]\n",
            " [91 70 25 99 25 11 89 52]\n",
            " [ 4 85 67 94 14 41 26 65]\n",
            " [90 74 64 21 90 78 61 12]]\n",
            "Matrix B\n",
            " [[ 1 50 21 49 51 68 68 53]\n",
            " [91 87 62 28 50 75 32 99]\n",
            " [56 65 82 15 42 45 23 50]\n",
            " [45 86 53 74 40 42 81  5]\n",
            " [52 97 60 65  7 26 19 99]\n",
            " [ 1 55 80 80 94 90 36 50]\n",
            " [98 39 80 62 16 11 61 87]\n",
            " [23  3 62 67 87 48 84 33]]\n",
            "[[20843, 27527, 28430, 22534, 20122, 20691, 20526, 25055], [23909, 34336, 27898, 34660, 23018, 32546, 25983, 38867], [21674, 30116, 22632, 17737, 20287, 23360, 20134, 22885], [25184, 24244, 32317, 27758, 25364, 22362, 25705, 28241], [23977, 32559, 33691, 30264, 29359, 30387, 28057, 33088], [23545, 28164, 26272, 24331, 10834, -13906, 16692, -9596], [20533, 24856, 32111, 33150, 8884, 6900, 17499, 17930], [22365, 17819, 12828, -23759, 21305, 17273, -489, -25810]]\n"
          ]
        }
      ]
    },
    {
      "cell_type": "code",
      "metadata": {
        "colab": {
          "base_uri": "https://localhost:8080/"
        },
        "id": "LVhgZ7QO6_tO",
        "outputId": "776c497c-e72e-4ae4-82ef-83b185399099"
      },
      "source": [
        "matrix_mult(A,B)"
      ],
      "execution_count": 33,
      "outputs": [
        {
          "output_type": "execute_result",
          "data": {
            "text/plain": [
              "array([[20843, 27527, 28430, 22534, 20122, 20691, 20526, 25055],\n",
              "       [23909, 25210, 27898, 25680, 23018, 23066, 25983, 28582],\n",
              "       [21674, 30116, 27459, 21373, 20287, 23360, 19889, 25543],\n",
              "       [25184, 31455, 34556, 31340, 25364, 25887, 27040, 34970],\n",
              "       [23977, 32559, 33691, 30264, 27483, 28911, 27089, 32207],\n",
              "       [23545, 27436, 26272, 25627, 20308, 21836, 27690, 25982],\n",
              "       [20533, 24856, 26060, 20694, 21051, 21070, 20935, 20290],\n",
              "       [22365, 32339, 30103, 25672, 21800, 26039, 20908, 33914]],\n",
              "      dtype=int32)"
            ]
          },
          "metadata": {},
          "execution_count": 33
        }
      ]
    },
    {
      "cell_type": "code",
      "metadata": {
        "id": "TvF0BQaBrTeH",
        "colab": {
          "base_uri": "https://localhost:8080/"
        },
        "outputId": "a1968ed4-eaea-4ad3-aa6d-afa003004328"
      },
      "source": [
        "def matrix_mult(A,B):\n",
        "    n = len(A)\n",
        "    res = np.zeros((n, n), dtype=\"i\")\n",
        "    for i in range(n):\n",
        "        for j in range(n):\n",
        "            temp_res = 0\n",
        "            for l in range(n):\n",
        "                temp_res += A[i][l] * B[l][j]\n",
        "            res[i][j] = temp_res\n",
        "    return res\n",
        "print(matrix_mult(A,B))"
      ],
      "execution_count": 30,
      "outputs": [
        {
          "output_type": "stream",
          "name": "stdout",
          "text": [
            "[[16802  5283 14298 12113]\n",
            " [14290  3722 11169 11186]\n",
            " [19346  7014 18565 13146]\n",
            " [22352  7940 20927 16378]]\n"
          ]
        }
      ]
    },
    {
      "cell_type": "markdown",
      "metadata": {
        "id": "JzCzdxUHFOAV"
      },
      "source": [
        "# Greedy Algorithms for activity selection problem"
      ]
    },
    {
      "cell_type": "code",
      "metadata": {
        "colab": {
          "base_uri": "https://localhost:8080/"
        },
        "id": "Upd3tlScg7gr",
        "outputId": "12660060-e4f0-490a-c03f-724481fef50d"
      },
      "source": [
        "def MaxActivities(arr, n):\n",
        "    selected = []\n",
        "     \n",
        "     \n",
        "    # The first activity always gets selected\n",
        "    i = 0\n",
        "    selected.append(arr[i])\n",
        "    for j in range(1, n):\n",
        "      '''If this activity has start time greater than or\n",
        "         equal to the finish time of previously selected\n",
        "         activity, then select it'''\n",
        "      if arr[j][0] >= arr[i][1]:\n",
        "          selected.append(arr[j])\n",
        "          i = j\n",
        "    return selected\n",
        " \n",
        "# Driver code\n",
        "Activity = [[5, 9], [1, 2], [3, 4], [0, 6],[5, 7], [8, 9]]\n",
        "print(\"Initial data:\\n\", Activity)\n",
        "# Sort jobs according to finish time\n",
        "Activity.sort(key = lambda x : x[1])\n",
        "print(\"Sorted data by finish time:\\n\",Activity)\n",
        "n = len(Activity)\n",
        "selected = MaxActivities(Activity, n)\n",
        "print(\"Following activities are selected:\")\n",
        "print(selected)"
      ],
      "execution_count": 35,
      "outputs": [
        {
          "output_type": "stream",
          "name": "stdout",
          "text": [
            "Initial data:\n",
            " [[5, 9], [1, 2], [3, 4], [0, 6], [5, 7], [8, 9]]\n",
            "Sorted data by finish time:\n",
            " [[1, 2], [3, 4], [0, 6], [5, 7], [5, 9], [8, 9]]\n",
            "Following activities are selected:\n",
            "[[1, 2], [3, 4], [5, 7], [8, 9]]\n"
          ]
        }
      ]
    }
  ]
}