{
  "nbformat": 4,
  "nbformat_minor": 0,
  "metadata": {
    "colab": {
      "name": "Lab4.ipynb",
      "provenance": [],
      "collapsed_sections": []
    },
    "kernelspec": {
      "display_name": "Python 3",
      "language": "python",
      "name": "python3"
    },
    "language_info": {
      "codemirror_mode": {
        "name": "ipython",
        "version": 3
      },
      "file_extension": ".py",
      "mimetype": "text/x-python",
      "name": "python",
      "nbconvert_exporter": "python",
      "pygments_lexer": "ipython3",
      "version": "3.8.8"
    }
  },
  "cells": [
    {
      "cell_type": "code",
      "metadata": {
        "id": "ECpUWIblIGcF"
      },
      "source": [
        "import random\n",
        "import autograd.numpy as np\n",
        "from autograd import grad, jacobian\n",
        "import scipy\n",
        "import matplotlib.pyplot as plt\n",
        "import seaborn as sns\n",
        "import math\n",
        "from scipy.optimize import least_squares "
      ],
      "execution_count": 9,
      "outputs": []
    },
    {
      "cell_type": "code",
      "metadata": {
        "id": "ohTSIgMOS4TZ"
      },
      "source": [
        "def f(x):\n",
        "  return 1 / (x ** 2 - 3 * x + 2)"
      ],
      "execution_count": 10,
      "outputs": []
    },
    {
      "cell_type": "code",
      "metadata": {
        "id": "o1xRx-ChRHbh"
      },
      "source": [
        "xk = [3 * i / 1000 for i in range(1000)]\n",
        "yk = []\n",
        "for i in xk:\n",
        "    if (f(i)<-100):\n",
        "        yk.append(-100 + np.random.normal(0, 1))\n",
        "    elif ((f(i)>=-100) & (f(i)<=100)):\n",
        "        yk.append(f(i) + np.random.normal(0, 1))\n",
        "    else:\n",
        "        yk.append(100 + np.random.normal(0, 1))"
      ],
      "execution_count": 11,
      "outputs": []
    },
    {
      "cell_type": "code",
      "metadata": {
        "id": "c3xu63MKUv7U"
      },
      "source": [
        "def approximation_function(a, b, c, d):\n",
        "    x = []\n",
        "    y = []\n",
        "    for k in range(1000):\n",
        "        x.append(3 * k / 1000)\n",
        "        y.append((a * x[k] + b) / (x[k] ** 2 + c * x[k] + d))\n",
        "    return x, y"
      ],
      "execution_count": 53,
      "outputs": []
    },
    {
      "cell_type": "code",
      "metadata": {
        "id": "gwD9x0I5XRnk"
      },
      "source": [
        "def approximant_function(x,xk,yk):\n",
        "    a = x[0]\n",
        "    b = x[1]\n",
        "    c = x[2]\n",
        "    d = x[3]\n",
        "    d_func = 0\n",
        "    for k in range(1000):\n",
        "        d_func += ((a * xk[k] + b) / (xk[k] ** 2 + c * xk[k] + d) - yk[k]) ** 2\n",
        "    return d_func"
      ],
      "execution_count": 14,
      "outputs": []
    },
    {
      "cell_type": "code",
      "metadata": {
        "id": "STXs9IzKaSCF"
      },
      "source": [
        "def approximant_function_2(x,xk,yk):\n",
        "    a = x[0]\n",
        "    b = x[1]\n",
        "    c = x[2]\n",
        "    d = x[3]\n",
        "    return [((a * xk[k] + b) / (xk[k] ** 2 + c * xk[k] + d) - yk[k]) for k in range(1000)]"
      ],
      "execution_count": 15,
      "outputs": []
    },
    {
      "cell_type": "code",
      "metadata": {
        "colab": {
          "base_uri": "https://localhost:8080/"
        },
        "id": "4yntTTrRYnhs",
        "outputId": "bc459284-6719-454f-c488-475e83d22c18"
      },
      "source": [
        "res_nelder_mead = scipy.optimize.minimize(approximant_function, [2,2,2,2], args = (xk,yk),  method=\"Nelder-Mead\",tol=0.001)\n",
        "print(res_nelder_mead)"
      ],
      "execution_count": 27,
      "outputs": [
        {
          "output_type": "stream",
          "name": "stdout",
          "text": [
            " final_simplex: (array([[-1.60364375,  1.60455549, -2.00102033,  1.00107064],\n",
            "       [-1.60364249,  1.6045544 , -2.001021  ,  1.00107133],\n",
            "       [-1.60363989,  1.60455234, -2.0010219 ,  1.00107222],\n",
            "       [-1.60363708,  1.60455017, -2.00102269,  1.001073  ],\n",
            "       [-1.60363946,  1.60455171, -2.00102294,  1.00107325]]), array([152091.75786671, 152091.7580839 , 152091.75821776, 152091.75847058,\n",
            "       152091.75872546]))\n",
            "           fun: 152091.75786670606\n",
            "       message: 'Optimization terminated successfully.'\n",
            "          nfev: 410\n",
            "           nit: 235\n",
            "        status: 0\n",
            "       success: True\n",
            "             x: array([-1.60364375,  1.60455549, -2.00102033,  1.00107064])\n"
          ]
        }
      ]
    },
    {
      "cell_type": "code",
      "metadata": {
        "colab": {
          "base_uri": "https://localhost:8080/"
        },
        "id": "By3CnxpXZ2Ug",
        "outputId": "72cc087b-3e75-4fdc-ae7e-f6ad08deb525"
      },
      "source": [
        "res_lm = least_squares(approximant_function_2, [2,2,2,2],  args = (xk, yk), method='lm')\n",
        "print(res_lm)"
      ],
      "execution_count": 17,
      "outputs": [
        {
          "output_type": "stream",
          "name": "stdout",
          "text": [
            " active_mask: array([0, 0, 0, 0])\n",
            "        cost: 68461.64312063713\n",
            "         fun: array([ 4.44317985e-01,  6.38394279e-01,  7.73185869e-01,  1.23608911e+00,\n",
            "       -1.07267822e+00, -6.87465713e-01,  1.89752712e+00,  3.95692682e-01,\n",
            "        1.00704118e+00,  4.70018791e-01, -3.55811157e-02,  2.94393307e+00,\n",
            "       -4.78434377e-01,  1.05974308e+00, -8.11240693e-01,  1.21210717e+00,\n",
            "        2.70988036e+00, -6.98502995e-02,  1.01310350e+00,  9.71428387e-01,\n",
            "        1.48093937e+00,  8.08992304e-01,  2.30086964e+00, -3.74785344e-01,\n",
            "        1.63668330e-01,  1.46193322e+00,  1.15300678e+00, -4.67466070e-01,\n",
            "        8.59785552e-01,  9.76960682e-01,  3.67058870e-01,  5.78020332e-01,\n",
            "        5.35280887e-01, -7.73908411e-02,  2.10399486e+00,  2.83265338e+00,\n",
            "       -1.03908972e-01, -4.26726477e-01,  3.63445750e-01, -6.66361014e-02,\n",
            "        8.82307190e-01,  8.07352050e-02,  3.93268234e-01,  2.47995907e+00,\n",
            "        3.51010836e-01,  1.49681592e+00, -5.86496853e-01, -3.05407320e-01,\n",
            "        6.14900386e-02,  1.27654742e+00,  1.27418234e-01,  1.96976130e-01,\n",
            "        1.82419630e+00,  1.23269006e-01,  2.25357517e+00,  3.83768318e-02,\n",
            "       -4.85608242e-01, -1.83298802e+00, -1.30151123e+00,  1.47784383e+00,\n",
            "        1.35514806e+00, -1.51878593e-01,  1.04820959e+00,  1.96697712e+00,\n",
            "       -7.35292391e-01,  4.96197889e-01, -3.52784370e-01,  2.21382858e-01,\n",
            "        3.18433867e+00, -9.66580978e-01, -7.76906135e-01,  2.68611202e-01,\n",
            "       -5.39395223e-01, -3.61095384e-01,  3.23795684e-02, -9.75352489e-01,\n",
            "        1.84221645e+00,  4.47753080e-02,  2.75009612e+00,  8.17967457e-01,\n",
            "       -1.13080370e-01, -2.94898007e-01, -6.55820011e-01,  1.93757403e+00,\n",
            "       -3.36950156e-01,  2.02797135e+00, -1.06643288e+00,  1.15498856e-01,\n",
            "        9.98539737e-01,  1.86977839e+00,  2.28542714e+00,  1.81521551e+00,\n",
            "        3.57892143e-01,  1.29989695e-01, -9.31360848e-01,  6.63134936e-02,\n",
            "       -6.71410869e-02,  2.95792275e+00, -6.36171407e-01,  3.79374176e+00,\n",
            "       -6.15663897e-01, -4.39800847e-01,  2.88602052e-01,  1.76648628e+00,\n",
            "       -2.67798106e+00,  9.24452203e-01,  8.33618649e-01,  7.60935649e-02,\n",
            "        3.28804530e-01,  1.81529326e-01,  1.68789183e-01,  8.53894977e-01,\n",
            "        1.04469472e+00, -5.58700425e-02,  2.95817047e+00,  2.32836099e+00,\n",
            "        9.96666963e-02,  1.63334544e+00,  2.40752879e-01,  1.77220647e+00,\n",
            "        4.41960826e-01,  2.10346924e+00,  2.83284250e-01,  4.09385235e-01,\n",
            "        1.12471526e+00, -3.81897313e-02,  7.99350875e-01,  3.18345226e+00,\n",
            "        7.22972305e-01,  1.21502697e+00,  8.80274488e-01,  9.27999521e-01,\n",
            "        1.07216916e+00,  4.82870101e-01,  6.86653981e-01,  3.91121110e-01,\n",
            "        1.56625481e+00,  3.32770145e-01,  3.04408498e+00,  1.68910847e+00,\n",
            "       -6.71557219e-01,  1.12734526e+00,  1.49090272e+00,  1.09235861e+00,\n",
            "        1.22253085e+00,  9.49565197e-01,  8.73417941e-01,  1.77878489e+00,\n",
            "        1.27054846e-01,  5.76746917e-01,  1.92004433e+00,  1.10860645e+00,\n",
            "        8.42107687e-02,  2.01059546e+00,  3.68997746e-01,  4.57279969e-01,\n",
            "       -2.02657639e-01,  1.20339277e+00, -6.49363850e-02,  6.81573571e-01,\n",
            "        6.02112922e-01,  5.04558436e-01,  6.15227445e-01,  1.44873035e+00,\n",
            "        7.67689694e-01,  3.91939800e-01,  1.37087748e+00,  9.91325421e-01,\n",
            "       -1.53379123e-01, -6.19970808e-01, -1.85539841e-01,  4.70476204e-01,\n",
            "        1.72297214e+00,  1.07465780e+00,  3.71829943e-01,  1.66114386e+00,\n",
            "        3.85577296e-01, -5.71590653e-01,  2.21251757e+00,  1.03626035e+00,\n",
            "        3.93045742e-01,  1.18812377e+00,  1.40844496e+00,  1.37531877e+00,\n",
            "        3.55355934e-03,  2.80122555e-01,  7.99658431e-01,  5.28651579e-01,\n",
            "       -3.92906379e-01, -3.12687223e-01,  1.05025567e+00,  1.55763373e+00,\n",
            "        6.29976731e-01,  1.70843988e+00,  4.90911751e-01,  7.00910472e-01,\n",
            "       -9.24429351e-01, -2.64363533e-01,  5.63201794e-01,  5.13487908e-01,\n",
            "        9.73761835e-01, -1.07017029e-01,  2.01631468e+00,  3.24677955e+00,\n",
            "        4.55128053e-01, -1.68755736e-01,  6.36331304e-01,  1.59996405e+00,\n",
            "       -1.83897720e-01,  1.45686576e+00, -2.11464687e-01,  4.49276647e-01,\n",
            "        1.47262999e+00,  1.43474505e+00, -4.69133443e-01,  1.65546186e+00,\n",
            "        7.46832604e-01,  1.40932145e+00, -1.87034355e+00,  1.39311834e+00,\n",
            "       -8.39366869e-01, -4.25574173e-01,  4.88684866e-01,  4.72878978e-02,\n",
            "        2.02269472e+00, -6.38819014e-01,  1.75544856e+00, -2.24170773e-01,\n",
            "        1.45175351e+00,  5.69463466e-01,  3.76917586e-01,  1.24615604e+00,\n",
            "        8.90266954e-01,  2.07553274e+00,  1.31248011e+00, -8.97653393e-01,\n",
            "        7.96851651e-03,  5.65767034e-01,  4.56794801e-01, -4.41010173e-01,\n",
            "       -5.18605395e-01, -3.62312706e-01,  1.02996023e+00,  1.63936577e+00,\n",
            "        8.78601315e-01,  7.02961121e-01, -8.65274755e-01,  4.37489052e-01,\n",
            "       -6.46920272e-01,  2.00772415e-01, -8.59099833e-01,  1.97664070e+00,\n",
            "        9.29848549e-01,  8.21553536e-01,  9.57948134e-02,  8.01607446e-01,\n",
            "        8.55262019e-02,  3.12545088e+00,  9.43536543e-01,  1.80772301e+00,\n",
            "        3.43493066e-01, -6.22423039e-01,  1.24230495e+00,  5.55150573e-01,\n",
            "        8.86677303e-01,  1.22742618e+00,  1.00880357e+00,  2.45208096e+00,\n",
            "        1.58373082e+00,  2.04946822e+00,  3.88849964e-01,  6.15212166e-01,\n",
            "        7.24419077e-01,  6.08048853e-01,  1.80753641e-01, -1.19174285e-01,\n",
            "        6.75991044e-01,  1.66246161e+00,  2.85136505e-01,  2.51519182e-01,\n",
            "        9.59930451e-01,  1.35089807e+00,  9.53913085e-01,  1.80971271e-01,\n",
            "        1.18613833e+00,  7.51384696e-01,  2.19270289e+00,  9.69114320e-01,\n",
            "        9.17472065e-01,  1.95121536e+00, -2.15536242e-01,  1.94955478e+00,\n",
            "        1.81504725e+00,  1.54119859e+00, -4.56068517e-01,  4.81419497e-01,\n",
            "        1.83132638e+00,  2.79503993e+00,  6.77364097e-01,  3.73982533e-01,\n",
            "        2.00751715e+00,  8.34451541e-01,  1.39738650e+00,  2.14144695e+00,\n",
            "       -5.84694451e-01, -7.21910105e-01,  8.13452361e-01, -1.17572645e+00,\n",
            "       -1.60871517e-01,  1.07165242e+00,  1.32000667e+00,  1.30526557e-01,\n",
            "        2.01907568e-01,  1.11633071e+00,  1.83807588e+00,  1.17532152e-01,\n",
            "        1.25996590e+00,  1.57069463e+00, -7.78387288e-02,  3.34828509e-01,\n",
            "        1.47180167e+00,  7.68423942e-01, -1.15403595e+00,  1.96556695e-01,\n",
            "       -1.03160738e-01, -4.46714229e-01, -2.46337481e+00, -2.78922255e+00,\n",
            "       -3.88798885e+00, -6.01729901e+00, -1.48483325e+01,  6.61129385e+00,\n",
            "        2.61301197e+01, -1.88203800e+01,  1.73160481e+01, -2.30934442e+01,\n",
            "       -3.77606085e+00,  8.91049606e+00,  4.43493265e+00,  2.67058024e+00,\n",
            "        1.31701939e-01,  2.60718195e+00,  2.32406070e+00, -3.21616941e-01,\n",
            "        6.64281865e-01,  5.39009007e+00,  2.10238674e+00,  2.09460462e+00,\n",
            "        9.86093747e-01,  1.29184599e+00, -1.19194990e+00,  1.01048139e-02,\n",
            "        1.13430640e+00,  1.86153482e+00,  2.07464736e+00,  2.44485099e+00,\n",
            "       -2.95642306e-01,  4.20033838e-02,  5.67788590e-01,  2.84719796e+00,\n",
            "        2.06887703e+00,  7.42643050e-01,  1.08834519e-02,  6.68911891e-01,\n",
            "        1.98722831e+00,  6.98157514e-01,  1.02697063e+00,  1.43275257e+00,\n",
            "        3.36271502e+00,  2.12232236e-01,  6.91867767e-01,  2.77752955e-01,\n",
            "        1.54366275e+00,  8.84184431e-01,  1.37427067e-01,  2.08647109e+00,\n",
            "        1.22098875e+00,  1.29662732e+00,  3.58137526e+00,  2.22407680e+00,\n",
            "        7.44757764e-01,  2.04234156e-01,  1.86747440e+00,  2.62886769e+00,\n",
            "        1.58925188e+00,  1.20026581e+00,  6.94459705e-01,  2.17351365e+00,\n",
            "        3.23621967e-02,  2.82601295e-01,  3.04686064e+00,  1.88602197e+00,\n",
            "        1.57329719e+00,  1.13117067e+00,  1.71048962e+00,  1.05549294e+00,\n",
            "        2.37787860e+00,  6.06184215e-01,  1.67047637e+00,  2.50490890e+00,\n",
            "        1.00069413e+00,  1.68674029e+00,  2.54011759e+00,  3.45153327e+00,\n",
            "        1.28331680e+00,  1.36094632e+00,  1.46104974e+00, -8.60487833e-01,\n",
            "       -9.22326841e-01,  2.31877256e+00,  3.74581917e-01,  2.55225895e+00,\n",
            "        5.42584470e-01,  2.47937738e+00,  2.02342554e+00,  1.42822645e+00,\n",
            "        1.53353775e+00,  2.10432682e+00,  3.73586839e-01,  1.60328069e+00,\n",
            "        2.03051376e+00,  1.40979737e+00,  9.20868636e-01,  6.47765293e-01,\n",
            "        5.78517002e-01,  3.04013824e-01,  5.03156282e-01,  1.28452987e+00,\n",
            "        2.17260716e+00,  1.53723713e+00,  3.16932004e+00,  2.72318131e+00,\n",
            "        1.33362046e+00,  1.34385382e+00,  2.05049801e+00,  1.67862433e+00,\n",
            "        9.38800823e-01,  3.00127678e+00,  2.53529982e+00,  1.04150115e+00,\n",
            "        1.38854131e-02,  1.36525103e+00,  2.28108853e+00,  1.63387336e+00,\n",
            "        1.17334336e+00,  2.73613342e+00,  6.12270446e-01,  6.49814432e-01,\n",
            "        1.51974145e+00,  8.91477251e-01, -1.27366227e+00,  2.87769793e+00,\n",
            "        6.04652485e-01,  1.80682740e+00,  2.19456396e+00,  1.04625116e+00,\n",
            "        2.25720199e+00,  2.47401622e+00, -2.96419551e-01,  1.31717399e+00,\n",
            "        1.12641932e+00,  7.91379226e-01,  1.91174626e+00,  1.06667655e+00,\n",
            "        1.98108987e+00,  2.89929251e-01,  1.19414235e+00,  1.59126467e+00,\n",
            "        2.71758068e+00,  1.70780743e+00,  1.69469774e+00,  7.07246241e-01,\n",
            "        9.61078874e-01,  1.78314078e+00,  1.58873604e+00,  1.13250565e+00,\n",
            "        1.14640496e+00,  2.26821267e+00,  1.12956838e-02,  6.15572704e-02,\n",
            "        1.58375776e+00,  1.86837557e+00,  1.23648016e+00,  1.06151667e+00,\n",
            "       -1.96758959e-01,  9.49879173e-01,  3.01257185e+00,  1.02463204e+00,\n",
            "        1.35835694e+00, -1.54949358e-01,  2.98469643e+00,  3.57132933e+00,\n",
            "        2.85481572e+00,  7.67191323e-01,  1.58188072e+00,  2.21465097e+00,\n",
            "        2.46808098e+00,  3.93463033e+00,  1.31999799e+00,  1.35523690e+00,\n",
            "        1.51441457e+00,  3.47754565e+00,  1.22988645e+00,  1.05694825e+00,\n",
            "        3.84273905e+00,  4.20281248e+00,  1.35850082e+00,  2.33523710e+00,\n",
            "        2.83903520e+00,  1.97759346e+00,  1.23255415e+00,  2.65336974e+00,\n",
            "        2.72273071e+00,  1.23570245e+00,  2.63943369e+00,  1.18625252e+00,\n",
            "        3.88757973e+00,  3.67711996e+00,  2.48323528e+00,  2.24154012e+00,\n",
            "        3.86996234e+00,  2.07641012e+00,  7.40066192e-01,  2.42929000e+00,\n",
            "        1.70312438e+00,  2.50930012e+00,  3.78634688e+00,  3.26352361e+00,\n",
            "        3.12898300e+00,  2.50510871e+00,  3.34319682e+00,  1.59943735e+00,\n",
            "        1.30135950e+00,  2.32637737e+00,  1.24922389e+00,  2.84357090e+00,\n",
            "        4.25028933e+00,  2.80401257e+00,  2.78612387e+00,  1.94423955e+00,\n",
            "        3.78243598e+00,  2.08098008e+00,  4.22268938e+00,  2.32925730e+00,\n",
            "        3.64384222e+00,  2.18420467e+00,  1.85821632e+00,  2.73270835e+00,\n",
            "        1.58705844e+00,  1.31851999e+00,  2.35691901e+00,  3.59309618e+00,\n",
            "        3.40606410e+00,  3.90487414e+00,  4.38816110e+00,  2.47259822e+00,\n",
            "        2.27171889e+00,  3.83762519e+00,  4.17951113e+00,  3.23207980e+00,\n",
            "        2.54771351e+00,  2.45078600e+00,  3.59975182e+00,  4.25615253e+00,\n",
            "        4.72622529e+00,  2.19326306e+00,  3.16941327e+00,  4.00544577e+00,\n",
            "        3.00012014e+00,  3.48364627e+00,  3.19308080e+00,  4.15333056e+00,\n",
            "        3.82863204e+00,  2.79218736e+00,  3.63587855e+00,  3.75195026e+00,\n",
            "        3.38778605e+00,  3.79236531e+00,  3.44012561e+00,  4.40372920e+00,\n",
            "        4.33915624e+00,  3.89207992e+00,  3.91807242e+00,  3.69140161e+00,\n",
            "        4.80223454e+00,  4.75612496e+00,  2.69033876e+00,  4.29346737e+00,\n",
            "        4.30832792e+00,  5.75990758e+00,  6.24673708e+00,  4.24533348e+00,\n",
            "        4.42787528e+00,  4.68746562e+00,  6.02025972e+00,  4.83367412e+00,\n",
            "        4.93185731e+00,  3.26238091e+00,  3.18853838e+00,  3.21965173e+00,\n",
            "        4.80183153e+00,  6.06456771e+00,  5.37606147e+00,  7.16267239e+00,\n",
            "        5.96904973e+00,  3.21931148e+00,  6.21011142e+00,  4.33443453e+00,\n",
            "        4.82273914e+00,  6.56119494e+00,  5.89737690e+00,  6.84462274e+00,\n",
            "        6.58435025e+00,  6.04821842e+00,  5.14646676e+00,  6.44700235e+00,\n",
            "        7.48474467e+00,  8.35460540e+00,  5.69928938e+00,  6.99358678e+00,\n",
            "        6.07490000e+00,  8.30377203e+00,  8.48319875e+00,  7.04270989e+00,\n",
            "        6.57055395e+00,  8.23395737e+00,  7.68412846e+00,  9.24332129e+00,\n",
            "        7.15493185e+00,  8.36979356e+00,  7.05971894e+00,  8.06132895e+00,\n",
            "        8.75591200e+00,  8.22021511e+00,  1.10160515e+01,  1.00242512e+01,\n",
            "        1.15940815e+01,  1.10911564e+01,  1.11388420e+01,  9.61690406e+00,\n",
            "        1.28079420e+01,  1.21358448e+01,  1.46577867e+01,  1.55990513e+01,\n",
            "        1.34804901e+01,  1.46883315e+01,  1.70675241e+01,  1.78546563e+01,\n",
            "        1.73084673e+01,  1.69348534e+01,  1.98555440e+01,  2.08381444e+01,\n",
            "        2.29845323e+01,  2.44203042e+01,  2.75948454e+01,  2.93136301e+01,\n",
            "        3.24602828e+01,  3.57595011e+01,  3.79570508e+01,  4.33380748e+01,\n",
            "        4.82598484e+01,  5.81839507e+01,  7.17363151e+01,  9.27935623e+01,\n",
            "        9.95516011e+01,  9.97221123e+01,  9.74179900e+01, -1.03244165e+02,\n",
            "       -1.00193059e+02, -9.99400305e+01, -1.00708518e+02, -7.68747105e+01,\n",
            "       -6.18140973e+01, -5.14228175e+01, -4.59035358e+01, -3.74585551e+01,\n",
            "       -3.64595416e+01, -3.37699774e+01, -2.97993253e+01, -2.68209701e+01,\n",
            "       -2.59357100e+01, -2.42229688e+01, -2.12770520e+01, -2.17027047e+01,\n",
            "       -2.04256315e+01, -1.92175701e+01, -1.70674631e+01, -1.72048600e+01,\n",
            "       -1.50158106e+01, -1.72615890e+01, -1.28617916e+01, -1.27711747e+01,\n",
            "       -1.21744243e+01, -1.13460871e+01, -1.19079332e+01, -1.35389133e+01,\n",
            "       -1.00687799e+01, -1.02221819e+01, -9.82431333e+00, -1.02065151e+01,\n",
            "       -1.04753795e+01, -1.11075176e+01, -9.51128727e+00, -1.07461707e+01,\n",
            "       -9.44258938e+00, -8.75347207e+00, -8.35415268e+00, -8.63947890e+00,\n",
            "       -7.45827814e+00, -8.83385569e+00, -9.24615235e+00, -7.81869154e+00,\n",
            "       -9.00871737e+00, -7.02145899e+00, -7.54057078e+00, -4.27885333e+00,\n",
            "       -8.31848719e+00, -7.65495002e+00, -6.78700855e+00, -6.71948520e+00,\n",
            "       -6.64396951e+00, -6.79230396e+00, -4.85626400e+00, -5.82756592e+00,\n",
            "       -6.58990235e+00, -5.63162696e+00, -5.31598070e+00, -4.34176546e+00,\n",
            "       -6.31128165e+00, -5.41144276e+00, -5.64894975e+00, -4.78927592e+00,\n",
            "       -5.11709037e+00, -5.58751876e+00, -5.19156200e+00, -5.77069153e+00,\n",
            "       -5.58559765e+00, -4.75476265e+00, -6.07002389e+00, -5.64272632e+00,\n",
            "       -4.94290467e+00, -5.05075047e+00, -5.82856876e+00, -4.48986518e+00,\n",
            "       -3.80514240e+00, -4.60565284e+00, -4.66194346e+00, -3.83944783e+00,\n",
            "       -3.79919253e+00, -3.05061538e+00, -5.22094786e+00, -5.77727375e+00,\n",
            "       -2.17780016e+00, -5.15207376e+00, -3.31001188e+00, -2.84329189e+00,\n",
            "       -4.16253330e+00, -4.07740346e+00, -2.94086800e+00, -4.80639945e+00,\n",
            "       -3.60030594e+00, -3.22534751e+00, -3.54876191e+00, -3.90451255e+00,\n",
            "       -3.15247452e+00, -3.98837180e+00, -3.34381486e+00, -4.64021552e+00,\n",
            "       -3.11568567e+00, -5.89230699e+00, -5.34638816e+00, -2.39459693e+00,\n",
            "       -2.84189216e+00, -2.60671918e+00, -4.61970044e+00, -2.73937561e+00,\n",
            "       -2.99245171e+00, -1.01517165e+00, -3.64057811e+00, -2.92785719e+00,\n",
            "       -3.98970552e+00, -3.17849591e+00, -2.21644742e+00, -3.74097641e+00,\n",
            "       -4.51788383e+00, -2.76597204e+00, -2.55813626e+00, -4.23418944e+00,\n",
            "       -4.22910183e+00, -2.53075006e+00, -8.51615480e-01, -3.06827359e+00,\n",
            "       -1.15668016e+00, -2.79260247e+00, -3.13638712e+00, -3.10592527e+00,\n",
            "       -4.50261376e+00, -1.91292553e+00, -1.58179443e+00, -1.76182271e+00,\n",
            "       -2.70648807e+00, -2.05418322e+00, -2.33111495e+00, -1.63300700e+00,\n",
            "       -1.92970149e+00, -6.96722995e-01, -2.24734660e+00, -7.60389611e-01,\n",
            "       -2.79700927e+00, -5.06950426e+00, -2.48421155e+00, -2.95306654e+00,\n",
            "       -1.93166471e+00, -4.02720262e+00, -2.35095671e+00, -4.02577284e+00,\n",
            "       -2.96103995e+00, -3.77699305e+00, -1.93585651e+00, -2.66764596e+00,\n",
            "       -1.68980420e+00, -1.15829029e+00, -4.42221128e+00, -9.86871594e-01,\n",
            "       -3.09989009e+00, -2.81510559e+00, -1.17196493e+00, -2.84695328e+00,\n",
            "       -9.14625049e-01, -8.22784827e-01, -3.11591916e+00, -6.39974795e-01,\n",
            "       -2.77808191e+00, -1.46310142e+00, -8.10120029e-01, -5.17712856e-01,\n",
            "       -5.79900567e-01, -2.91378622e+00, -3.62169133e+00, -1.84618616e+00,\n",
            "       -3.50494300e+00, -1.19596389e+00, -2.81023272e+00, -1.66103460e+00,\n",
            "       -1.97045539e+00, -1.72788946e+00, -2.74334368e+00, -5.98333261e-01,\n",
            "       -2.69457850e+00, -1.40307003e+00, -2.13226950e+00, -1.67429889e+00,\n",
            "       -2.43384634e+00,  3.76466232e-01, -3.11417937e-02,  7.78363157e-01,\n",
            "       -1.28742106e+00, -2.01764865e+00, -1.73489215e+00, -1.31404874e+00,\n",
            "       -1.81645594e+00, -8.65344196e-01, -2.98364332e+00,  8.33181137e-01,\n",
            "       -9.05208868e-02, -6.06165314e-01, -2.08324185e+00, -2.07905179e+00,\n",
            "       -2.34103661e+00, -2.11476010e+00, -1.87658690e+00, -2.60993810e+00,\n",
            "        2.03465873e-02, -9.31161513e-01, -1.64227507e+00, -1.36318154e+00,\n",
            "       -3.03427434e+00, -1.42307804e+00, -3.10218461e+00, -5.06958971e-01,\n",
            "       -1.48018465e+00, -2.08710053e+00, -2.34077475e+00, -3.09662715e+00,\n",
            "       -1.76150552e+00, -2.58236975e+00, -1.89337699e+00, -2.41677104e+00,\n",
            "       -8.20086542e-01, -2.17312509e+00, -2.75018197e+00, -1.62702126e+00,\n",
            "       -9.80424345e-01, -1.88714677e+00, -7.11080242e-01, -1.45042300e+00,\n",
            "        8.10632709e-02, -9.41297076e-01, -2.26323894e+00, -7.56356057e-01,\n",
            "       -8.39635098e-01, -1.72109572e+00,  2.32166949e-02, -1.38358649e+00,\n",
            "       -1.57072404e+00,  6.30304671e-02, -1.90217518e+00, -1.17748894e+00,\n",
            "       -6.83452255e-01, -1.65528999e-01,  1.20216956e-01, -2.30353128e+00,\n",
            "        1.69975408e+00, -1.08416954e-01, -8.75083130e-01, -1.13100290e+00,\n",
            "       -1.34640072e+00, -1.06326143e+00, -2.26482290e+00, -3.17391771e-01,\n",
            "       -2.88995105e+00, -5.55873981e-01, -2.50741259e+00, -6.18098473e-01,\n",
            "       -2.28950512e-01, -1.99314957e+00, -2.75297150e+00,  1.53146677e+00,\n",
            "       -1.20932365e+00, -7.75524924e-01, -2.22607111e+00, -9.89426308e-01,\n",
            "       -8.63709063e-01, -9.30862336e-01, -1.06802492e+00, -1.98903208e+00,\n",
            "       -1.48521922e+00, -1.16505819e+00, -1.31088368e+00, -2.37106842e-01,\n",
            "       -9.32323070e-01, -2.63116221e+00, -1.26844478e-01, -7.41868429e-01,\n",
            "       -1.97742873e+00, -1.99002877e+00, -1.04186903e+00, -1.66399978e+00,\n",
            "       -3.27019558e-01, -1.58617314e+00,  7.15712831e-01, -1.33335867e+00,\n",
            "       -1.14273391e+00, -2.28457060e+00, -2.74142814e+00, -4.22980494e-01,\n",
            "       -7.01806752e-02, -2.57115907e+00, -1.13964711e+00, -2.26437818e-02,\n",
            "       -1.40904324e+00, -1.77877879e+00, -1.06060223e-01, -1.12192122e+00,\n",
            "       -2.69659675e+00, -9.63338147e-01, -2.91520552e+00, -4.94241334e-01,\n",
            "       -1.62811871e+00, -7.47654976e-01,  1.18339603e+00, -5.73434179e-01,\n",
            "       -1.38257089e+00,  5.73710831e-01, -8.07601313e-01, -1.51612886e-01,\n",
            "        6.15669961e-01, -2.33103398e+00, -1.70305459e+00, -3.28175946e-01,\n",
            "       -1.12116944e+00, -1.38810827e+00, -2.31252408e+00, -1.43660442e+00,\n",
            "       -2.93728532e-01, -2.16645927e+00, -1.40955820e+00,  1.07825634e-01,\n",
            "       -3.28851801e-01,  1.26634197e+00, -1.03177884e+00, -1.53765637e+00,\n",
            "       -2.90818258e+00, -6.66223437e-01, -1.62511088e+00, -5.25013282e-01,\n",
            "       -1.22873477e+00, -1.25341867e+00,  7.06236162e-01, -9.93744094e-01])\n",
            "        grad: array([9.49729029e+00, 9.56668527e+00, 1.07698022e+08, 1.53422228e+07])\n",
            "         jac: array([[ 0.        ,  0.99919753,  0.        , -1.00824621],\n",
            "       [ 0.00301565,  1.00521732, -0.00305211, -1.01737153],\n",
            "       [ 0.00606775,  1.01129168, -0.00615964, -1.02660731],\n",
            "       ...,\n",
            "       [ 0.75482072,  0.252364  ,  0.38274276,  0.12796481],\n",
            "       [ 0.75330552,  0.25160505,  0.38139968,  0.127388  ],\n",
            "       [ 0.75179603,  0.25084952,  0.38006352,  0.12681466]])\n",
            "     message: '`ftol` termination condition is satisfied.'\n",
            "        nfev: 252\n",
            "        njev: None\n",
            "  optimality: 107698021.63480587\n",
            "      status: 2\n",
            "     success: True\n",
            "           x: array([-1.00940309,  1.00986633, -2.00078695,  1.00080312])\n"
          ]
        }
      ]
    },
    {
      "cell_type": "code",
      "metadata": {
        "colab": {
          "base_uri": "https://localhost:8080/"
        },
        "id": "PaJ0aQE-CldV",
        "outputId": "0e98587f-8791-47ec-9a40-8a5819da7ef9"
      },
      "source": [
        "res_dif_evoluation = scipy.optimize.differential_evolution(approximant_function, [(-2,2),(-2,2),(-2,2),(-2,2)], maxiter=1000, args = (xk,yk))\n",
        "print(res_dif_evoluation)"
      ],
      "execution_count": 62,
      "outputs": [
        {
          "output_type": "stream",
          "name": "stdout",
          "text": [
            "     fun: 137390.56180447002\n",
            "     jac: array([-9.90508124e+02, -1.00974576e+03,  1.64043065e+06,  5.76810134e+05])\n",
            " message: 'Optimization terminated successfully.'\n",
            "    nfev: 1095\n",
            "     nit: 5\n",
            " success: True\n",
            "       x: array([-1.00944979,  1.00971041, -2.        ,  1.00001622])\n"
          ]
        }
      ]
    },
    {
      "cell_type": "code",
      "metadata": {
        "colab": {
          "base_uri": "https://localhost:8080/"
        },
        "id": "kVrQHrJobmtp",
        "outputId": "c9f9cf38-ac57-4ecd-8552-edd72443bd9c"
      },
      "source": [
        "res_dual_anneling = scipy.optimize.dual_annealing(approximant_function, [(-2,2),(-2,2),(-2,2),(-2,2)], maxiter=1000, args= (xk,yk))\n",
        "print(res_dual_anneling)"
      ],
      "execution_count": 63,
      "outputs": [
        {
          "output_type": "stream",
          "name": "stdout",
          "text": [
            "     fun: 137390.56335601676\n",
            " message: ['Maximum number of iteration reached']\n",
            "    nfev: 9106\n",
            "    nhev: 0\n",
            "     nit: 1000\n",
            "    njev: 0\n",
            "  status: 0\n",
            " success: True\n",
            "       x: array([-1.00944105,  1.00970168, -2.        ,  1.00001621])\n"
          ]
        }
      ]
    },
    {
      "cell_type": "code",
      "metadata": {
        "colab": {
          "base_uri": "https://localhost:8080/",
          "height": 458
        },
        "id": "1kdy6dtjEAR6",
        "outputId": "ed9a234b-d658-498b-d415-d1aa7f35de55"
      },
      "source": [
        "plt.figure(figsize=(15,7)) \n",
        "plt.title('Approximation function')   \n",
        "plt.xlabel('x') \n",
        "plt.ylabel('y') \n",
        "plt.plot(xk, yk, label = \"Noise data\", color='blue') # noise data \n",
        "plt.plot(approximation_function(*res_nelder_mead.x)[0],\n",
        "         approximation_function(*res_nelder_mead.x)[1],\n",
        "         linewidth = 1, label = \"Nelder-Mead\", color='red') #drew approx function\n",
        "plt.plot(approximation_function(*res_lm.x)[0],\n",
        "         approximation_function(*res_lm.x)[1],\n",
        "         linewidth = 1, label = \"LMA\", color='orange') #drew approx function        \n",
        "plt.plot(approximation_function(*res_dif_evoluation.x)[0],\n",
        "         approximation_function(*res_dif_evoluation.x)[1],\n",
        "         linewidth = 1, label = \"Differential evolution\", color='green') #drew approx function\n",
        "plt.plot(approximation_function(*res_dual_anneling.x)[0],\n",
        "         approximation_function(*res_dual_anneling.x)[1],\n",
        "         linewidth = 1, label = \"Simulate annealing\", color='purple') #drew approx function\n",
        "plt.legend(loc='upper left') #show legend\n",
        "plt.show() # show plot"
      ],
      "execution_count": 61,
      "outputs": [
        {
          "output_type": "display_data",
          "data": {
            "image/png": "[encoded data removed]",
            "text/plain": [
              "<Figure size 1080x504 with 1 Axes>"
            ]
          },
          "metadata": {
            "needs_background": "light"
          }
        }
      ]
    }
  ]
}