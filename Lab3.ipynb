{
  "nbformat": 4,
  "nbformat_minor": 0,
  "metadata": {
    "colab": {
      "name": "Lab3.ipynb",
      "provenance": [],
      "collapsed_sections": []
    },
    "kernelspec": {
      "display_name": "Python 3",
      "language": "python",
      "name": "python3"
    },
    "language_info": {
      "codemirror_mode": {
        "name": "ipython",
        "version": 3
      },
      "file_extension": ".py",
      "mimetype": "text/x-python",
      "name": "python",
      "nbconvert_exporter": "python",
      "pygments_lexer": "ipython3",
      "version": "3.8.8"
    }
  },
  "cells": [
    {
      "cell_type": "code",
      "metadata": {
        "id": "ECpUWIblIGcF"
      },
      "source": [
        "import random\n",
        "import numpy as np\n",
        "from scipy import optimize as opt\n",
        "from autograd import grad, jacobian\n",
        "\n",
        "import matplotlib.pyplot as plt"
      ],
      "execution_count": 84,
      "outputs": []
    },
    {
      "cell_type": "code",
      "metadata": {
        "id": "5fhTkeah5nlz"
      },
      "source": [
        "#data generation\n",
        "np.random.seed(seed=60)\n",
        "eps = 0.001\n",
        "alpha, beta = random.randrange(0, 1), random.randrange(0, 1)\n",
        "xk = [i / 100 for i in range(100)]\n",
        "yk = [alpha * i + beta + np.random.normal(0, 1) for i in xk]"
      ],
      "execution_count": 85,
      "outputs": []
    },
    {
      "cell_type": "code",
      "metadata": {
        "id": "AfhzC9cS5nl1"
      },
      "source": [
        "def linear_approximation(a,b):\n",
        "    x = []\n",
        "    y = []\n",
        "    for k in range(100):\n",
        "        x.append(k / 100)\n",
        "        y.append(a * x[k] + b)\n",
        "    return x, y\n",
        "\n",
        "def rational_approximation(a,b):\n",
        "    x = []\n",
        "    y = []\n",
        "    for k in range(100):\n",
        "        x.append(k / 100)\n",
        "        y.append(a / (1 + b * x[k]))\n",
        "    return x, y"
      ],
      "execution_count": 86,
      "outputs": []
    },
    {
      "cell_type": "code",
      "metadata": {
        "id": "GUuaRI3y5nl3"
      },
      "source": [
        "def lin_apploximant(x,xk,yk):  \n",
        "    a = x[0]\n",
        "    b = x[1]\n",
        "    D_linear = 0\n",
        "    for k in range(100):\n",
        "        D_linear += (a * xk[k] + b - yk[k]) ** 2\n",
        "    return D_linear\n",
        "\n",
        "def rat_apploximant(x,xk,yk):  \n",
        "    a = x[0]\n",
        "    b = x[1]\n",
        "    D_rational = 0\n",
        "    for k in range(100):\n",
        "        D_rational += (a / (1 + b * xk[k]) - yk[k]) ** 2\n",
        "    return D_rational"
      ],
      "execution_count": 87,
      "outputs": []
    },
    {
      "cell_type": "code",
      "metadata": {
        "id": "mcEnT9yB5nl4"
      },
      "source": [
        "def derivative_lin_a(x,xk,yk):  \n",
        "    a = x[0]\n",
        "    b = x[1]\n",
        "    d_deriv = 0\n",
        "    for k in range(100):\n",
        "        d_deriv += 2 * xk[k] * (a * xk[k] + b - yk[k])\n",
        "    return d_deriv\n",
        "\n",
        "def derivative_lin_b(x,xk,yk):  \n",
        "    a = x[0]\n",
        "    b = x[1]\n",
        "    d_deriv = 0\n",
        "    for k in range(100):\n",
        "        d_deriv += 2 * (a * xk[k] + b - yk[k]) \n",
        "    return d_deriv\n",
        "\n",
        "def derivative_rat_a(x,xk,yk):  \n",
        "    a = x[0]\n",
        "    b = x[1]\n",
        "    d_deriv = 0\n",
        "    for k in range(100):\n",
        "        d_deriv += 2 * ( a / (1 + b * xk[k]) - yk[k]) / (1 + b * xk[k])\n",
        "    return d_deriv\n",
        "\n",
        "def derivative_rat_b(x,xk,yk):  \n",
        "    a = x[0]\n",
        "    b = x[1]\n",
        "    d_deriv = 0\n",
        "    for k in range(100):\n",
        "        d_deriv += - 2 * (a / (1 + b * xk[k]) - yk[k]) * xk[k] * a  / (1 + b * xk[k]) ** 2\n",
        "    return d_deriv"
      ],
      "execution_count": 88,
      "outputs": []
    },
    {
      "cell_type": "code",
      "metadata": {
        "id": "bVeKMPTZ5nl6"
      },
      "source": [
        "def gradient_descent(x, function, xk, yk, eps, linear,max_iters):\n",
        "    a = x[0]\n",
        "    b = x[1]\n",
        "    a_prev = x[0] - 1\n",
        "    b_prev = x[1] - 1\n",
        "    rate = 0.01 # Learning rate\n",
        "    iteration = 0 \n",
        "    if linear == True:\n",
        "        while abs(lin_apploximant([a,b], xk, yk) - lin_apploximant([a_prev, b_prev], xk, yk)) > eps and iteration < max_iters:\n",
        "            a_prev, b_prev = a, b #Store current x value in prev_x\n",
        "            a = a - rate * derivative_lin_a([a, b], xk, yk)\n",
        "            b = b - rate * derivative_lin_b([a, b], xk, yk)\n",
        "            iteration += 1\n",
        "        print(\"The local minimum:[{0}, {1}]\".format(a, b))\n",
        "        print(\"Number of iteration:\", iteration)\n",
        "        \n",
        "    else:\n",
        "        while abs(rat_apploximant([a,b], xk, yk) - rat_apploximant([a_prev, b_prev], xk, yk)) > eps and iteration < max_iters:\n",
        "            a_prev, b_prev = a, b \n",
        "            a = a - rate * derivative_rat_a([a, b], xk, yk)\n",
        "            b = b - rate * derivative_rat_b([a, b], xk, yk)\n",
        "            iteration += 1\n",
        "        print(\"The local minimum:[{0}, {1}]\".format(a, b))\n",
        "        print(\"Number of iteration:\", iteration)\n",
        "    return a,b\n"
      ],
      "execution_count": 89,
      "outputs": []
    },
    {
      "cell_type": "code",
      "metadata": {
        "id": "wr-TejU55nl_"
      },
      "source": [
        "res_cg_lin = opt.minimize(lin_apploximant, [0, 0], args = (xk, yk), method=\"CG\", tol = 0.001)\n",
        "res_cg_rat = opt.minimize(rat_apploximant, [0, 0], args = (xk, yk), method=\"CG\", tol = 0.001)"
      ],
      "execution_count": 90,
      "outputs": []
    },
    {
      "cell_type": "code",
      "metadata": {
        "id": "0iHtIX7G5nmA"
      },
      "source": [
        "res_newton_cg_lin = opt.minimize(lin_apploximant, [0, 0], args = (xk, yk), method=\"Newton-CG\", jac = jacobian(lin_apploximant), tol=0.001)\n",
        "res_newton_cg_rat = opt.minimize(rat_apploximant, [0, 0], args = (xk, yk), method=\"Newton-CG\", jac = jacobian(rat_apploximant), tol=0.001)"
      ],
      "execution_count": 91,
      "outputs": []
    },
    {
      "cell_type": "code",
      "metadata": {
        "id": "2frqjLe16Poj"
      },
      "source": [
        "def lin_approximant_2(x,xk,yk): \n",
        "  a = x[0]\n",
        "  b = x[1] \n",
        "  return [(a*xk[i] + b - yk[i]) for i in range(0,100)]\n",
        "\n",
        "def rat_approximant_2(x,xk,yk): \n",
        "  a = x[0]\n",
        "  b = x[1] \n",
        "  return [(a/(1+b*xk[i])-yk[i]) for i in range(0,100)]"
      ],
      "execution_count": 92,
      "outputs": []
    },
    {
      "cell_type": "code",
      "metadata": {
        "id": "iLgLY6tL8260"
      },
      "source": [
        "res_lm_lin = opt.least_squares(lin_approximant_2,[0,0], args = (xk,yk), method='lm')\n",
        "res_lm_rat = opt.least_squares(rat_approximant_2,[0,0], args = (xk,yk), method='lm')\n"
      ],
      "execution_count": 93,
      "outputs": []
    },
    {
      "cell_type": "markdown",
      "metadata": {
        "id": "6F4OqHI8zFtE"
      },
      "source": [
        "**Results of linear function approximation**"
      ]
    },
    {
      "cell_type": "code",
      "metadata": {
        "colab": {
          "base_uri": "https://localhost:8080/"
        },
        "id": "O0Jb-BxGu-nQ",
        "outputId": "99d7f83b-b2f6-4d28-ec7a-950f69c59d5a"
      },
      "source": [
        "print(\"Gradient descent\")\n",
        "res_grad_descent_lin = gradient_descent([0, 0], lin_apploximant, xk, yk, 0.001, True, 10000)"
      ],
      "execution_count": 94,
      "outputs": [
        {
          "output_type": "stream",
          "name": "stdout",
          "text": [
            "Gradient descent\n",
            "The local minimum:[0.24052665261723205, -0.019731290523551916]\n",
            "Number of iteration: 11\n"
          ]
        }
      ]
    },
    {
      "cell_type": "code",
      "metadata": {
        "colab": {
          "base_uri": "https://localhost:8080/"
        },
        "id": "M26Y461Hv-hN",
        "outputId": "10dee030-18e2-42cf-89f2-48c6c36eab2b"
      },
      "source": [
        "print(\"Conjugate gradient method\")\n",
        "print(res_cg_lin)"
      ],
      "execution_count": 95,
      "outputs": [
        {
          "output_type": "stream",
          "name": "stdout",
          "text": [
            "Conjugate gradient method\n",
            "     fun: 112.81079160031125\n",
            "     jac: array([-1.90734863e-06, -9.53674316e-07])\n",
            " message: 'Optimization terminated successfully.'\n",
            "    nfev: 20\n",
            "     nit: 2\n",
            "    njev: 5\n",
            "  status: 0\n",
            " success: True\n",
            "       x: array([ 0.25074217, -0.024141  ])\n"
          ]
        }
      ]
    },
    {
      "cell_type": "code",
      "metadata": {
        "colab": {
          "base_uri": "https://localhost:8080/"
        },
        "id": "V3I8Z5K0wBDf",
        "outputId": "c1fd0b6a-a919-4a05-857e-30c9f1ef87ca"
      },
      "source": [
        "print(\"Newton’s method \")\n",
        "print(res_newton_cg_lin)"
      ],
      "execution_count": 96,
      "outputs": [
        {
          "output_type": "stream",
          "name": "stdout",
          "text": [
            "Newton’s method \n",
            "     fun: 112.81079160031109\n",
            "     jac: array([1.27028891e-08, 2.07647248e-08])\n",
            " message: 'Warning: Desired error not necessarily achieved due to precision loss.'\n",
            "    nfev: 54\n",
            "    nhev: 0\n",
            "     nit: 2\n",
            "    njev: 54\n",
            "  status: 2\n",
            " success: False\n",
            "       x: array([ 0.25074215, -0.02414101])\n"
          ]
        }
      ]
    },
    {
      "cell_type": "code",
      "metadata": {
        "colab": {
          "base_uri": "https://localhost:8080/"
        },
        "id": "9UOrmeK6wDLJ",
        "outputId": "368be5b3-0567-47f9-a8e9-c82a96cb6432"
      },
      "source": [
        "print(\"Levenberg-Marquardt algorithm\")\n",
        "print(res_lm_lin)"
      ],
      "execution_count": 97,
      "outputs": [
        {
          "output_type": "stream",
          "name": "stdout",
          "text": [
            "Levenberg-Marquardt algorithm\n",
            " active_mask: array([0, 0])\n",
            "        cost: 56.40539580015558\n",
            "         fun: array([ 0.89762999,  0.56468405, -1.18312531,  1.22510522,  1.9711189 ,\n",
            "       -1.3183128 , -0.74690354, -0.38570034, -0.00507084,  1.10346061,\n",
            "        0.94424039,  0.72381106, -2.27534135, -0.0265118 ,  0.68553156,\n",
            "       -0.20466751, -1.15090629, -0.26166315, -0.53986019, -0.03411436,\n",
            "       -0.23903548,  2.23948243,  0.05968371,  0.29702245, -1.27605325,\n",
            "       -0.90485362, -0.79870901,  0.82309668,  0.00777728, -0.46540746,\n",
            "        0.05531983,  2.8668317 ,  0.7948911 , -1.06080805, -0.32494094,\n",
            "        1.16069392, -1.14191955, -0.52260936,  0.01074993, -0.45511179,\n",
            "       -1.89879019,  0.3830512 , -1.03769716, -0.84846702, -0.74205403,\n",
            "        0.06239543,  1.08841068,  2.22515568,  1.75802101,  0.46526057,\n",
            "        0.07201386, -0.67766694, -0.87502889, -0.37593368,  1.88752849,\n",
            "        0.20682124, -0.74493459,  0.75150912,  2.0270654 ,  0.74112789,\n",
            "       -1.26997095, -1.49317216, -1.72253718,  0.18887307,  0.7791121 ,\n",
            "       -2.35218669, -1.34758163,  0.63952584,  0.22131932,  0.49273435,\n",
            "       -1.55104139,  0.10958653, -1.07544797,  0.18512127, -1.50669515,\n",
            "       -0.99154347, -0.4062735 , -1.85372207,  0.5992667 ,  0.56491512,\n",
            "        0.34275431,  1.64257486, -0.56203467,  0.41269149,  0.72064923,\n",
            "        0.60983653, -0.79433723, -0.28388254,  0.30365288,  1.80033985,\n",
            "        1.33385845, -0.27027446,  0.14499074, -0.17513253,  1.48810883,\n",
            "        1.22820429, -0.1992873 , -1.41429613, -0.84271331,  0.72672165])\n",
            "        grad: array([-5.87676472e-08, -1.35831986e-08])\n",
            "         jac: array([[0.  , 1.  ],\n",
            "       [0.01, 1.  ],\n",
            "       [0.02, 1.  ],\n",
            "       [0.03, 1.  ],\n",
            "       [0.04, 1.  ],\n",
            "       [0.05, 1.  ],\n",
            "       [0.06, 1.  ],\n",
            "       [0.07, 1.  ],\n",
            "       [0.08, 1.  ],\n",
            "       [0.09, 1.  ],\n",
            "       [0.1 , 1.  ],\n",
            "       [0.11, 1.  ],\n",
            "       [0.12, 1.  ],\n",
            "       [0.13, 1.  ],\n",
            "       [0.14, 1.  ],\n",
            "       [0.15, 1.  ],\n",
            "       [0.16, 1.  ],\n",
            "       [0.17, 1.  ],\n",
            "       [0.18, 1.  ],\n",
            "       [0.19, 1.  ],\n",
            "       [0.2 , 1.  ],\n",
            "       [0.21, 1.  ],\n",
            "       [0.22, 1.  ],\n",
            "       [0.23, 1.  ],\n",
            "       [0.24, 1.  ],\n",
            "       [0.25, 1.  ],\n",
            "       [0.26, 1.  ],\n",
            "       [0.27, 1.  ],\n",
            "       [0.28, 1.  ],\n",
            "       [0.29, 1.  ],\n",
            "       [0.3 , 1.  ],\n",
            "       [0.31, 1.  ],\n",
            "       [0.32, 1.  ],\n",
            "       [0.33, 1.  ],\n",
            "       [0.34, 1.  ],\n",
            "       [0.35, 1.  ],\n",
            "       [0.36, 1.  ],\n",
            "       [0.37, 1.  ],\n",
            "       [0.38, 1.  ],\n",
            "       [0.39, 1.  ],\n",
            "       [0.4 , 1.  ],\n",
            "       [0.41, 1.  ],\n",
            "       [0.42, 1.  ],\n",
            "       [0.43, 1.  ],\n",
            "       [0.44, 1.  ],\n",
            "       [0.45, 1.  ],\n",
            "       [0.46, 1.  ],\n",
            "       [0.47, 1.  ],\n",
            "       [0.48, 1.  ],\n",
            "       [0.49, 1.  ],\n",
            "       [0.5 , 1.  ],\n",
            "       [0.51, 1.  ],\n",
            "       [0.52, 1.  ],\n",
            "       [0.53, 1.  ],\n",
            "       [0.54, 1.  ],\n",
            "       [0.55, 1.  ],\n",
            "       [0.56, 1.  ],\n",
            "       [0.57, 1.  ],\n",
            "       [0.58, 1.  ],\n",
            "       [0.59, 1.  ],\n",
            "       [0.6 , 1.  ],\n",
            "       [0.61, 1.  ],\n",
            "       [0.62, 1.  ],\n",
            "       [0.63, 1.  ],\n",
            "       [0.64, 1.  ],\n",
            "       [0.65, 1.  ],\n",
            "       [0.66, 1.  ],\n",
            "       [0.67, 1.  ],\n",
            "       [0.68, 1.  ],\n",
            "       [0.69, 1.  ],\n",
            "       [0.7 , 1.  ],\n",
            "       [0.71, 1.  ],\n",
            "       [0.72, 1.  ],\n",
            "       [0.73, 1.  ],\n",
            "       [0.74, 1.  ],\n",
            "       [0.75, 1.  ],\n",
            "       [0.76, 1.  ],\n",
            "       [0.77, 1.  ],\n",
            "       [0.78, 1.  ],\n",
            "       [0.79, 1.  ],\n",
            "       [0.8 , 1.  ],\n",
            "       [0.81, 1.  ],\n",
            "       [0.82, 1.  ],\n",
            "       [0.83, 1.  ],\n",
            "       [0.84, 1.  ],\n",
            "       [0.85, 1.  ],\n",
            "       [0.86, 1.  ],\n",
            "       [0.87, 1.  ],\n",
            "       [0.88, 1.  ],\n",
            "       [0.89, 1.  ],\n",
            "       [0.9 , 1.  ],\n",
            "       [0.91, 1.  ],\n",
            "       [0.92, 1.  ],\n",
            "       [0.93, 1.  ],\n",
            "       [0.94, 1.  ],\n",
            "       [0.95, 1.  ],\n",
            "       [0.96, 1.  ],\n",
            "       [0.97, 1.  ],\n",
            "       [0.98, 1.  ],\n",
            "       [0.99, 1.  ]])\n",
            "     message: '`ftol` termination condition is satisfied.'\n",
            "        nfev: 7\n",
            "        njev: None\n",
            "  optimality: 5.876764719303651e-08\n",
            "      status: 2\n",
            "     success: True\n",
            "           x: array([ 0.25074214, -0.02414101])\n"
          ]
        }
      ]
    },
    {
      "cell_type": "code",
      "metadata": {
        "colab": {
          "base_uri": "https://localhost:8080/",
          "height": 458
        },
        "id": "ww8uoK5J_ADe",
        "outputId": "94fe768b-ac88-42bd-813f-f05dd149d13e"
      },
      "source": [
        "plt.figure(figsize=(15,7)) \n",
        "plt.title('Approximation by linear function')   \n",
        "plt.xlabel('x') \n",
        "plt.ylabel('y') \n",
        "#plt.legend(['Linear approximation by brute force','Linear approximation bu Nelder-Mead', \n",
        "            #'Linear approximation by Gauss', 'Noisy data'])\n",
        "plt.plot(xk, yk,'o', label = \"Noise data\", color='red') # noise data \n",
        "plt.plot(linear_approximation(res_grad_descent_lin[0], res_grad_descent_lin[1])[0],\n",
        "         linear_approximation(res_grad_descent_lin[0], res_grad_descent_lin[1])[1],\n",
        "         linewidth = 1, label = \"Gradient descent\", color='blue') #drew approx function\n",
        "plt.plot(linear_approximation(*res_cg_lin.x)[0],\n",
        "         linear_approximation(*res_cg_lin.x)[1],\n",
        "         linewidth = 1, label = \"Conjugate gradient\", color='green')\n",
        "plt.plot(linear_approximation(*res_newton_cg_lin.x)[0],\n",
        "         linear_approximation(*res_newton_cg_lin.x)[1],\n",
        "         linewidth = 1, label = \"Newton-CG\", color='pink')\n",
        "plt.plot(linear_approximation(*res_lm_lin.x)[0],\n",
        "         linear_approximation(*res_lm_lin.x)[1],\n",
        "         linewidth = 1, label = \"Levenberg-Marquardt\", color='purple')\n",
        "\n",
        "plt.legend(loc='upper left') #show legend\n",
        "plt.show() # show plot"
      ],
      "execution_count": 98,
      "outputs": [
        {
          "output_type": "display_data",
          "data": {
            "image/png": "[encoded data removed]",
            "text/plain": [
              "<Figure size 1080x504 with 1 Axes>"
            ]
          },
          "metadata": {
            "needs_background": "light"
          }
        }
      ]
    },
    {
      "cell_type": "markdown",
      "metadata": {
        "id": "OER0hoj8ypLX"
      },
      "source": [
        "**Results of rational function approximation**"
      ]
    },
    {
      "cell_type": "code",
      "metadata": {
        "colab": {
          "base_uri": "https://localhost:8080/"
        },
        "id": "NxuZWLMiyb51",
        "outputId": "e3f4907f-f10f-4d4d-912c-314610b2e3b3"
      },
      "source": [
        "print(\"Gradient descent\")\n",
        "res_grad_descent_rat = gradient_descent([0.5,0.5], rat_apploximant, xk, yk, 0.001, False, 10000)"
      ],
      "execution_count": 101,
      "outputs": [
        {
          "output_type": "stream",
          "name": "stdout",
          "text": [
            "Gradient descent\n",
            "The local minimum:[0.08790827077424707, -0.3324814066319545]\n",
            "Number of iteration: 214\n"
          ]
        }
      ]
    },
    {
      "cell_type": "code",
      "metadata": {
        "colab": {
          "base_uri": "https://localhost:8080/"
        },
        "id": "fGZ_IJS_yy3K",
        "outputId": "1cdf134e-a42c-437b-d574-6d375ff34e9a"
      },
      "source": [
        "print(\"Conjugate gradient method\")\n",
        "print(res_cg_rat)"
      ],
      "execution_count": 81,
      "outputs": [
        {
          "output_type": "stream",
          "name": "stdout",
          "text": [
            "Conjugate gradient method\n",
            "     fun: 113.16044498966421\n",
            "     jac: array([-1.84059143e-04,  1.90734863e-05])\n",
            " message: 'Optimization terminated successfully.'\n",
            "    nfev: 68\n",
            "     nit: 7\n",
            "    njev: 17\n",
            "  status: 0\n",
            " success: True\n",
            "       x: array([ 0.07316307, -0.54794457])\n"
          ]
        }
      ]
    },
    {
      "cell_type": "code",
      "metadata": {
        "colab": {
          "base_uri": "https://localhost:8080/"
        },
        "id": "PdRxtdzhzPgz",
        "outputId": "96e01771-00b2-46f4-e51f-e8f9be070cf8"
      },
      "source": [
        "print(\"Newton’s method \")\n",
        "print(res_newton_cg_rat)"
      ],
      "execution_count": 82,
      "outputs": [
        {
          "output_type": "stream",
          "name": "stdout",
          "text": [
            "Newton’s method \n",
            "     fun: 113.16044498962076\n",
            "     jac: array([ 0.00144649, -0.00035475])\n",
            " message: 'Optimization terminated successfully.'\n",
            "    nfev: 13\n",
            "    nhev: 0\n",
            "     nit: 10\n",
            "    njev: 56\n",
            "  status: 0\n",
            " success: True\n",
            "       x: array([ 0.07316339, -0.54794599])\n"
          ]
        }
      ]
    },
    {
      "cell_type": "code",
      "metadata": {
        "colab": {
          "base_uri": "https://localhost:8080/"
        },
        "id": "-A8w3fQXzR-0",
        "outputId": "f6b40024-41ad-488b-a191-760e3c5de23f"
      },
      "source": [
        "print(\"Levenberg-Marquardt algorithm\")\n",
        "print(res_lm_rat)"
      ],
      "execution_count": 83,
      "outputs": [
        {
          "output_type": "stream",
          "name": "stdout",
          "text": [
            "Levenberg-Marquardt algorithm\n",
            " active_mask: array([0, 0])\n",
            "        cost: 56.58022249521545\n",
            "         fun: array([ 0.99493712,  0.65988687, -1.09002234,  1.31611288,  2.06003588,\n",
            "       -1.23148182, -0.66215378, -0.30302694,  0.07553114,  1.18199619,\n",
            "        1.02071468,  0.79822927, -2.20297392,  0.04381023,  0.75381368,\n",
            "       -0.13841972, -1.08668715, -0.19946688, -0.47968089,  0.02405396,\n",
            "       -0.18287202,  2.29364725,  0.11185622,  0.34720912, -1.22784584,\n",
            "       -0.85861876, -0.75443988,  0.86540706,  0.04813601, -0.42699314,\n",
            "        0.09179713,  2.9013795 ,  0.82751708, -1.03009605, -0.29613493,\n",
            "        1.18760209, -1.11690089, -0.49947172,  0.03201522, -0.43571   ,\n",
            "       -1.88124287,  0.3987533 , -1.02383088, -0.83642692, -0.73183028,\n",
            "        0.0708129 ,  1.09503213,  2.22999161,  1.76108215,  0.4665579 ,\n",
            "        0.0715586 , -0.67986329, -0.87895461, -0.38157675,  1.88018037,\n",
            "        0.19778066, -0.75565475,  0.73912257,  2.01302597,  0.72544942,\n",
            "       -1.28727428, -1.51208582, -1.7430463 ,  0.16678378,  0.75545826,\n",
            "       -2.37738901, -1.37431598,  0.61127635,  0.19157203,  0.46150705,\n",
            "       -1.58373044,  0.07545448, -1.11100376,  0.14816155, -1.54503847,\n",
            "       -1.03124948, -0.44732071, -1.89608837,  0.55560406,  0.51997953,\n",
            "        0.29656985,  1.59516634, -0.6106417 ,  0.36291224,  0.66972487,\n",
            "        0.55779501, -0.8474671 , -0.33807104,  0.2484364 ,  1.74412703,\n",
            "        1.27668198, -0.32838085,  0.08598929, -0.23499301,  1.42742657,\n",
            "        1.16673878, -0.26149621, -1.47720717, -0.90628375,  0.66253607])\n",
            "        grad: array([2.90794255e-04, 7.34464246e-07])\n",
            "         jac: array([[ 1.00000000e+00,  0.00000000e+00],\n",
            "       [ 1.00550947e+00, -7.39745635e-04],\n",
            "       [ 1.01107999e+00, -1.49592942e-03],\n",
            "       [ 1.01671257e+00, -2.26896458e-03],\n",
            "       [ 1.02240825e+00, -3.05927676e-03],\n",
            "       [ 1.02816812e+00, -3.86730434e-03],\n",
            "       [ 1.03399325e+00, -4.69349906e-03],\n",
            "       [ 1.03988476e+00, -5.53832636e-03],\n",
            "       [ 1.04584379e+00, -6.40226594e-03],\n",
            "       [ 1.05187151e+00, -7.28581224e-03],\n",
            "       [ 1.05796912e+00, -8.18947498e-03],\n",
            "       [ 1.06413783e+00, -9.11377977e-03],\n",
            "       [ 1.07037890e+00, -1.00592686e-02],\n",
            "       [ 1.07669361e+00, -1.10265005e-02],\n",
            "       [ 1.08308327e+00, -1.20160523e-02],\n",
            "       [ 1.08954922e+00, -1.30285189e-02],\n",
            "       [ 1.09609283e+00, -1.40645144e-02],\n",
            "       [ 1.10271553e+00, -1.51246726e-02],\n",
            "       [ 1.10941873e+00, -1.62096477e-02],\n",
            "       [ 1.11620393e+00, -1.73201154e-02],\n",
            "       [ 1.12307264e+00, -1.84567731e-02],\n",
            "       [ 1.13002641e+00, -1.96203415e-02],\n",
            "       [ 1.13706683e+00, -2.08115650e-02],\n",
            "       [ 1.14419552e+00, -2.20312126e-02],\n",
            "       [ 1.15141416e+00, -2.32800793e-02],\n",
            "       [ 1.15872446e+00, -2.45589866e-02],\n",
            "       [ 1.16612819e+00, -2.58687840e-02],\n",
            "       [ 1.17362713e+00, -2.72103499e-02],\n",
            "       [ 1.18122315e+00, -2.85845927e-02],\n",
            "       [ 1.18891813e+00, -2.99924522e-02],\n",
            "       [ 1.19671402e+00, -3.14349009e-02],\n",
            "       [ 1.20461283e+00, -3.29129450e-02],\n",
            "       [ 1.21261660e+00, -3.44276262e-02],\n",
            "       [ 1.22072744e+00, -3.59800230e-02],\n",
            "       [ 1.22894752e+00, -3.75712523e-02],\n",
            "       [ 1.23727904e+00, -3.92024708e-02],\n",
            "       [ 1.24572431e+00, -4.08748772e-02],\n",
            "       [ 1.25428566e+00, -4.25897133e-02],\n",
            "       [ 1.26296549e+00, -4.43482665e-02],\n",
            "       [ 1.27176630e+00, -4.61518712e-02],\n",
            "       [ 1.28069062e+00, -4.80019115e-02],\n",
            "       [ 1.28974108e+00, -4.98998227e-02],\n",
            "       [ 1.29892036e+00, -5.18470942e-02],\n",
            "       [ 1.30823124e+00, -5.38452712e-02],\n",
            "       [ 1.31767657e+00, -5.58959580e-02],\n",
            "       [ 1.32725928e+00, -5.80008201e-02],\n",
            "       [ 1.33698239e+00, -6.01615870e-02],\n",
            "       [ 1.34684900e+00, -6.23800556e-02],\n",
            "       [ 1.35686233e+00, -6.46580926e-02],\n",
            "       [ 1.36702566e+00, -6.69976386e-02],\n",
            "       [ 1.37734240e+00, -6.94007106e-02],\n",
            "       [ 1.38781603e+00, -7.18694065e-02],\n",
            "       [ 1.39845018e+00, -7.44059082e-02],\n",
            "       [ 1.40924855e+00, -7.70124863e-02],\n",
            "       [ 1.42021498e+00, -7.96915036e-02],\n",
            "       [ 1.43135343e+00, -8.24454204e-02],\n",
            "       [ 1.44266797e+00, -8.52767987e-02],\n",
            "       [ 1.45416282e+00, -8.81883075e-02],\n",
            "       [ 1.46584231e+00, -9.11827278e-02],\n",
            "       [ 1.47771093e+00, -9.42629586e-02],\n",
            "       [ 1.48977332e+00, -9.74320227e-02],\n",
            "       [ 1.50203426e+00, -1.00693073e-01],\n",
            "       [ 1.51449869e+00, -1.04049399e-01],\n",
            "       [ 1.52717172e+00, -1.07504434e-01],\n",
            "       [ 1.54005863e+00, -1.11061764e-01],\n",
            "       [ 1.55316489e+00, -1.14725132e-01],\n",
            "       [ 1.56649613e+00, -1.18498449e-01],\n",
            "       [ 1.58005820e+00, -1.22385806e-01],\n",
            "       [ 1.59385715e+00, -1.26391476e-01],\n",
            "       [ 1.60789925e+00, -1.30519931e-01],\n",
            "       [ 1.62219097e+00, -1.34775850e-01],\n",
            "       [ 1.63673903e+00, -1.39164129e-01],\n",
            "       [ 1.65155039e+00, -1.43689898e-01],\n",
            "       [ 1.66663226e+00, -1.48358526e-01],\n",
            "       [ 1.68199213e+00, -1.53175646e-01],\n",
            "       [ 1.69763775e+00, -1.58147157e-01],\n",
            "       [ 1.71357716e+00, -1.63279252e-01],\n",
            "       [ 1.72981873e+00, -1.68578426e-01],\n",
            "       [ 1.74637112e+00, -1.74051498e-01],\n",
            "       [ 1.76324335e+00, -1.79705630e-01],\n",
            "       [ 1.78044478e+00, -1.85548345e-01],\n",
            "       [ 1.79798513e+00, -1.91587553e-01],\n",
            "       [ 1.81587452e+00, -1.97831573e-01],\n",
            "       [ 1.83412348e+00, -2.04289156e-01],\n",
            "       [ 1.85274296e+00, -2.10969517e-01],\n",
            "       [ 1.87174435e+00, -2.17882358e-01],\n",
            "       [ 1.89113952e+00, -2.25037905e-01],\n",
            "       [ 1.91094086e+00, -2.32446937e-01],\n",
            "       [ 1.93116125e+00, -2.40120826e-01],\n",
            "       [ 1.95181413e+00, -2.48071575e-01],\n",
            "       [ 1.97291354e+00, -2.56311856e-01],\n",
            "       [ 1.99447410e+00, -2.64855061e-01],\n",
            "       [ 2.01651111e+00, -2.73715346e-01],\n",
            "       [ 2.03904054e+00, -2.82907689e-01],\n",
            "       [ 2.06207908e+00, -2.92447939e-01],\n",
            "       [ 2.08564417e+00, -3.02352886e-01],\n",
            "       [ 2.10975409e+00, -3.12640322e-01],\n",
            "       [ 2.13442795e+00, -3.23329114e-01],\n",
            "       [ 2.15968576e+00, -3.34439284e-01],\n",
            "       [ 2.18554851e+00, -3.45992095e-01]])\n",
            "     message: '`ftol` termination condition is satisfied.'\n",
            "        nfev: 27\n",
            "        njev: None\n",
            "  optimality: 0.00029079425456757235\n",
            "      status: 2\n",
            "     success: True\n",
            "           x: array([ 0.07316613, -0.54792824])\n"
          ]
        }
      ]
    },
    {
      "cell_type": "code",
      "metadata": {
        "colab": {
          "base_uri": "https://localhost:8080/",
          "height": 458
        },
        "id": "qllEKZd6DSoY",
        "outputId": "d12844c9-4cb2-4f64-ac2d-2fdc73e95b4e"
      },
      "source": [
        "plt.figure(figsize=(15,7)) \n",
        "plt.title('Approximation by rational function')   \n",
        "plt.xlabel('x') \n",
        "plt.ylabel('y') \n",
        "\n",
        "plt.plot(xk, yk,'o', label = \"Noise data\", color='red') # noise data \n",
        "plt.plot(rational_approximation(res_grad_descent_rat[0], res_grad_descent_rat[1])[0],\n",
        "         rational_approximation(res_grad_descent_rat[0], res_grad_descent_rat[1])[1],\n",
        "         linewidth = 1, label = \"Gradient descent\", color='blue') \n",
        "plt.plot(rational_approximation(*res_cg_rat.x)[0],\n",
        "         rational_approximation(*res_cg_rat.x)[1],\n",
        "         linewidth = 1, label = \"Conjugate gradient\", color='green')\n",
        "plt.plot(rational_approximation(*res_newton_cg_rat.x)[0],\n",
        "         rational_approximation(*res_newton_cg_rat.x)[1],\n",
        "         linewidth = 1, label = \"Newton-CG\", color='pink')\n",
        "plt.plot(rational_approximation(*res_lm_rat.x)[0],\n",
        "         rational_approximation(*res_lm_rat.x)[1],\n",
        "         linewidth = 1, label = \"Levenberg-Marquardt\", color='purple')\n",
        "\n",
        "plt.legend(loc='upper left') #show legend\n",
        "plt.show() # show plot"
      ],
      "execution_count": 102,
      "outputs": [
        {
          "output_type": "display_data",
          "data": {
            "image/png": "[encoded data removed]",
            "text/plain": [
              "<Figure size 1080x504 with 1 Axes>"
            ]
          },
          "metadata": {
            "needs_background": "light"
          }
        }
      ]
    }
  ]
}